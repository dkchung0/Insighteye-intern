{
 "cells": [
  {
   "cell_type": "code",
   "execution_count": 197,
   "metadata": {},
   "outputs": [],
   "source": [
    "import pymongo\n",
    "from pymongo import MongoClient"
   ]
  },
  {
   "cell_type": "markdown",
   "metadata": {},
   "source": [
    "## 連結本地資料庫"
   ]
  },
  {
   "cell_type": "code",
   "execution_count": 198,
   "metadata": {},
   "outputs": [],
   "source": [
    "client = MongoClient('localhost', 27017)"
   ]
  },
  {
   "cell_type": "markdown",
   "metadata": {},
   "source": [
    "### 建立資料庫&集合"
   ]
  },
  {
   "cell_type": "code",
   "execution_count": 211,
   "metadata": {},
   "outputs": [],
   "source": [
    "mydb = client[\"test\"]  #要有資料後才會確定生成"
   ]
  },
  {
   "cell_type": "code",
   "execution_count": 212,
   "metadata": {},
   "outputs": [
    {
     "data": {
      "text/plain": [
       "<pymongo.results.InsertOneResult at 0x14aec167500>"
      ]
     },
     "execution_count": 212,
     "metadata": {},
     "output_type": "execute_result"
    }
   ],
   "source": [
    "mydb[\"student\"].insert_one({\"name\":\"dk\",\"age\":\"25\"})"
   ]
  },
  {
   "cell_type": "code",
   "execution_count": 213,
   "metadata": {},
   "outputs": [
    {
     "name": "stdout",
     "output_type": "stream",
     "text": [
      "test已存在！\n"
     ]
    }
   ],
   "source": [
    "dblst = client.list_database_names()\n",
    "if \"test\" in dblst:\n",
    "    print(\"test已存在！\")\n",
    "else :\n",
    "    print(\"失敗\")"
   ]
  },
  {
   "cell_type": "markdown",
   "metadata": {},
   "source": [
    "### 刪除集合"
   ]
  },
  {
   "cell_type": "code",
   "execution_count": 214,
   "metadata": {},
   "outputs": [
    {
     "data": {
      "text/plain": [
       "<pymongo.results.InsertOneResult at 0x14aec128600>"
      ]
     },
     "execution_count": 214,
     "metadata": {},
     "output_type": "execute_result"
    }
   ],
   "source": [
    "mydb[\"teacher\"].insert_one({\"name\":\"pei_ting\",\"age\":\"35\"})"
   ]
  },
  {
   "cell_type": "code",
   "execution_count": 215,
   "metadata": {},
   "outputs": [],
   "source": [
    "mydb[\"teacher\"].drop()"
   ]
  },
  {
   "cell_type": "markdown",
   "metadata": {},
   "source": [
    "## 新增&查詢 單筆or多筆"
   ]
  },
  {
   "cell_type": "markdown",
   "metadata": {},
   "source": [
    "### 對collection新增單筆document"
   ]
  },
  {
   "cell_type": "code",
   "execution_count": 216,
   "metadata": {},
   "outputs": [
    {
     "data": {
      "text/plain": [
       "<pymongo.results.InsertOneResult at 0x14aec167600>"
      ]
     },
     "execution_count": 216,
     "metadata": {},
     "output_type": "execute_result"
    }
   ],
   "source": [
    "mydb[\"student\"].insert_one({\"name\":\"wen\",\"age\":23})\n",
    "mydb[\"student\"].insert_one({\"name\":\"pan\",\"age\":23})"
   ]
  },
  {
   "cell_type": "code",
   "execution_count": 217,
   "metadata": {},
   "outputs": [
    {
     "data": {
      "text/plain": [
       "<pymongo.results.InsertOneResult at 0x14aebec13c0>"
      ]
     },
     "execution_count": 217,
     "metadata": {},
     "output_type": "execute_result"
    }
   ],
   "source": [
    "mydb[\"student\"].insert_one({\"name\":\"zoe\",\"age\":23})"
   ]
  },
  {
   "cell_type": "code",
   "execution_count": 218,
   "metadata": {},
   "outputs": [],
   "source": [
    "import datetime"
   ]
  },
  {
   "cell_type": "code",
   "execution_count": 219,
   "metadata": {},
   "outputs": [],
   "source": [
    "post = {\"author\": \"Mike\",\n",
    "         \"text\": \"My first blog post!\",\n",
    "         \"tags\": [\"mongodb\", \"python\", \"pymongo\"],\n",
    "         \"date\": datetime.datetime.now()}"
   ]
  },
  {
   "cell_type": "code",
   "execution_count": 220,
   "metadata": {},
   "outputs": [],
   "source": [
    "pos=mydb[\"posts\"]"
   ]
  },
  {
   "cell_type": "code",
   "execution_count": 221,
   "metadata": {},
   "outputs": [
    {
     "name": "stdout",
     "output_type": "stream",
     "text": [
      "post id is  620b49a7435faa7eb730f179\n"
     ]
    }
   ],
   "source": [
    "post_id = pos.insert_one(post).inserted_id  # 不設id情況下會自動插入id\n",
    "print (\"post id is \", post_id)"
   ]
  },
  {
   "cell_type": "markdown",
   "metadata": {},
   "source": [
    "### 查詢單個document"
   ]
  },
  {
   "cell_type": "code",
   "execution_count": 222,
   "metadata": {},
   "outputs": [
    {
     "name": "stdout",
     "output_type": "stream",
     "text": [
      "document is : {'_id': ObjectId('620b49a3435faa7eb730f174'), 'name': 'dk', 'age': '25'} \n"
     ]
    }
   ],
   "source": [
    "print(\"document is : {} \".format(mydb.student.find_one()))"
   ]
  },
  {
   "cell_type": "code",
   "execution_count": 223,
   "metadata": {},
   "outputs": [
    {
     "name": "stdout",
     "output_type": "stream",
     "text": [
      "document is : {'_id': ObjectId('620b49a3435faa7eb730f174'), 'name': 'dk', 'age': '25'} \n"
     ]
    }
   ],
   "source": [
    "print(\"document is : {} \".format(mydb.student.find_one({\"name\":\"dk\"})))"
   ]
  },
  {
   "cell_type": "code",
   "execution_count": 224,
   "metadata": {},
   "outputs": [
    {
     "data": {
      "text/plain": [
       "ObjectId('620b49a3435faa7eb730f174')"
      ]
     },
     "execution_count": 224,
     "metadata": {},
     "output_type": "execute_result"
    }
   ],
   "source": [
    "mydb.student.find_one({\"name\":\"dk\"})[\"_id\"]"
   ]
  },
  {
   "cell_type": "code",
   "execution_count": 225,
   "metadata": {},
   "outputs": [
    {
     "name": "stdout",
     "output_type": "stream",
     "text": [
      "document is : {'_id': ObjectId('620b49a3435faa7eb730f174'), 'name': 'dk', 'age': '25'} \n"
     ]
    }
   ],
   "source": [
    "print(\"document is : {} \".format(mydb.student.find_one({\"_id\":mydb.student.find_one({\"name\":\"dk\"})[\"_id\"]})))"
   ]
  },
  {
   "cell_type": "markdown",
   "metadata": {},
   "source": [
    "### 批量插入document"
   ]
  },
  {
   "cell_type": "code",
   "execution_count": 226,
   "metadata": {},
   "outputs": [],
   "source": [
    "new_posts = [{\"_id\": 0,\n",
    "               \"nba\": \"westbrook\",\n",
    "               \"team\": \"OKC\",\n",
    "               \"tags\": [\"bulk\", \"insert\"],\n",
    "               \"date\": datetime.datetime(2017, 11, 12, 11, 14)},\n",
    "              {\"_id\": 13,\n",
    "               \"nba\": \"george\",\n",
    "               \"team\": \"LAC\",\n",
    "               \"text\": \"and pretty easy too!\",\n",
    "               \"date\": datetime.datetime(2019, 11, 10, 10, 45)}]\n"
   ]
  },
  {
   "cell_type": "code",
   "execution_count": 227,
   "metadata": {},
   "outputs": [],
   "source": [
    "results = mydb[\"nba\"].insert_many(new_posts)"
   ]
  },
  {
   "cell_type": "code",
   "execution_count": 228,
   "metadata": {},
   "outputs": [
    {
     "data": {
      "text/plain": [
       "[0, 13]"
      ]
     },
     "execution_count": 228,
     "metadata": {},
     "output_type": "execute_result"
    }
   ],
   "source": [
    "results.inserted_ids"
   ]
  },
  {
   "cell_type": "markdown",
   "metadata": {},
   "source": [
    "### 查詢多個document"
   ]
  },
  {
   "cell_type": "code",
   "execution_count": 229,
   "metadata": {},
   "outputs": [],
   "source": [
    "new2_posts = [{'_id': 555,\n",
    "               'author': 'Maxsu',\n",
    "               'date': datetime.datetime(2017, 7, 2, 21, 30, 38, 402000),\n",
    "               'tags': ['mongodb', 'python', 'pymongo'],\n",
    "               'text': 'My first blog post!'},\n",
    "              {'_id': 999,\n",
    "               'author': 'Kuber',\n",
    "               'date': datetime.datetime(2017, 7, 3, 14, 14, 8, 28000),\n",
    "               'tags': ['Docker', 'Shell', 'pymongo'],\n",
    "               'text': 'This is is my first post!'},\n",
    "              {'_id': 1000,\n",
    "               'author': 'Curry',\n",
    "               'date': datetime.datetime(2017, 11, 12, 11, 14),\n",
    "               'tags': ['bulk', 'insert'],\n",
    "               'text': 'Another post!'},\n",
    "              {'_id': 1001,\n",
    "               'author': 'Maxsu',\n",
    "               'date': datetime.datetime(2019, 11, 10, 10, 45),\n",
    "               'text': 'and pretty easy too!',\n",
    "               'title': 'MongoDB is fun'}]"
   ]
  },
  {
   "cell_type": "code",
   "execution_count": 230,
   "metadata": {},
   "outputs": [],
   "source": [
    "results = mydb[\"you\"].insert_many(new2_posts)"
   ]
  },
  {
   "cell_type": "code",
   "execution_count": 231,
   "metadata": {},
   "outputs": [
    {
     "name": "stdout",
     "output_type": "stream",
     "text": [
      "{'_id': 555, 'author': 'Maxsu', 'date': datetime.datetime(2017, 7, 2, 21, 30, 38, 402000), 'tags': ['mongodb', 'python', 'pymongo'], 'text': 'My first blog post!'}\n",
      "{'_id': 1001, 'author': 'Maxsu', 'date': datetime.datetime(2019, 11, 10, 10, 45), 'text': 'and pretty easy too!', 'title': 'MongoDB is fun'}\n"
     ]
    }
   ],
   "source": [
    "for post in  mydb[\"you\"].find({\"author\": \"Maxsu\"}):\n",
    "    print(post)"
   ]
  },
  {
   "cell_type": "markdown",
   "metadata": {},
   "source": [
    "### 列出資料表名稱"
   ]
  },
  {
   "cell_type": "code",
   "execution_count": 232,
   "metadata": {},
   "outputs": [
    {
     "name": "stdout",
     "output_type": "stream",
     "text": [
      "cur_collection is : ['student', 'you', 'nba', 'posts']\n"
     ]
    }
   ],
   "source": [
    "cur_collection = mydb.list_collection_names()\n",
    "\n",
    "print(\"cur_collection is :\", cur_collection)"
   ]
  },
  {
   "cell_type": "markdown",
   "metadata": {},
   "source": [
    "### 查看某collection檔案數量"
   ]
  },
  {
   "cell_type": "code",
   "execution_count": 233,
   "metadata": {},
   "outputs": [
    {
     "name": "stdout",
     "output_type": "stream",
     "text": [
      "The 'you' collection have 4 documents\n",
      "author is 'Maxsu' document is 2\n"
     ]
    }
   ],
   "source": [
    "print(\"The 'you' collection have {} documents\".format(mydb[\"you\"].count_documents({})))\n",
    "print(\"author is 'Maxsu' document is {}\".format(mydb[\"you\"].count_documents({\"author\": \"Maxsu\"})))"
   ]
  },
  {
   "cell_type": "markdown",
   "metadata": {},
   "source": [
    "### 搜尋日期"
   ]
  },
  {
   "cell_type": "code",
   "execution_count": 234,
   "metadata": {},
   "outputs": [],
   "source": [
    "d = datetime.datetime(2019, 11, 12, 12)"
   ]
  },
  {
   "cell_type": "code",
   "execution_count": 235,
   "metadata": {},
   "outputs": [
    {
     "name": "stdout",
     "output_type": "stream",
     "text": [
      "{'_id': 555, 'author': 'Maxsu', 'date': datetime.datetime(2017, 7, 2, 21, 30, 38, 402000), 'tags': ['mongodb', 'python', 'pymongo'], 'text': 'My first blog post!'}\n",
      "{'_id': 999, 'author': 'Kuber', 'date': datetime.datetime(2017, 7, 3, 14, 14, 8, 28000), 'tags': ['Docker', 'Shell', 'pymongo'], 'text': 'This is is my first post!'}\n",
      "{'_id': 1000, 'author': 'Curry', 'date': datetime.datetime(2017, 11, 12, 11, 14), 'tags': ['bulk', 'insert'], 'text': 'Another post!'}\n",
      "{'_id': 1001, 'author': 'Maxsu', 'date': datetime.datetime(2019, 11, 10, 10, 45), 'text': 'and pretty easy too!', 'title': 'MongoDB is fun'}\n"
     ]
    }
   ],
   "source": [
    "for post in  mydb[\"you\"].find({\"date\": {\"$lt\": d}}):\n",
    "    print(post)"
   ]
  },
  {
   "cell_type": "markdown",
   "metadata": {},
   "source": [
    "### 正則表達式查詢"
   ]
  },
  {
   "cell_type": "code",
   "execution_count": 236,
   "metadata": {},
   "outputs": [
    {
     "name": "stdout",
     "output_type": "stream",
     "text": [
      "{'_id': ObjectId('620b49a5435faa7eb730f176'), 'name': 'wen', 'age': 23}\n",
      "{'_id': ObjectId('620b49a5435faa7eb730f177'), 'name': 'pan', 'age': 23}\n"
     ]
    }
   ],
   "source": [
    "for st in mydb[\"student\"].find({\"name\":{'$regex':'n.*'}}):\n",
    "    print(st)"
   ]
  },
  {
   "cell_type": "markdown",
   "metadata": {},
   "source": [
    "### Select投影"
   ]
  },
  {
   "cell_type": "code",
   "execution_count": 237,
   "metadata": {},
   "outputs": [
    {
     "name": "stdout",
     "output_type": "stream",
     "text": [
      "{'_id': ObjectId('620b49a5435faa7eb730f176'), 'name': 'wen'}\n",
      "{'_id': ObjectId('620b49a5435faa7eb730f177'), 'name': 'pan'}\n"
     ]
    }
   ],
   "source": [
    "for st in mydb[\"student\"].find({\"name\":{'$regex':'n.*'}},{'_id':1,\"name\":1}):\n",
    "    print(st)"
   ]
  },
  {
   "cell_type": "markdown",
   "metadata": {},
   "source": [
    "### 限制檔案數 & 跳過檔案數"
   ]
  },
  {
   "cell_type": "code",
   "execution_count": 238,
   "metadata": {},
   "outputs": [
    {
     "name": "stdout",
     "output_type": "stream",
     "text": [
      "{'_id': 555, 'author': 'Maxsu', 'date': datetime.datetime(2017, 7, 2, 21, 30, 38, 402000), 'tags': ['mongodb', 'python', 'pymongo'], 'text': 'My first blog post!'}\n",
      "{'_id': 999, 'author': 'Kuber', 'date': datetime.datetime(2017, 7, 3, 14, 14, 8, 28000), 'tags': ['Docker', 'Shell', 'pymongo'], 'text': 'This is is my first post!'}\n"
     ]
    }
   ],
   "source": [
    "for post in mydb[\"you\"].find({}).limit(2):\n",
    "    print(post)"
   ]
  },
  {
   "cell_type": "code",
   "execution_count": 239,
   "metadata": {},
   "outputs": [
    {
     "name": "stdout",
     "output_type": "stream",
     "text": [
      "{'_id': 1000, 'author': 'Curry', 'date': datetime.datetime(2017, 11, 12, 11, 14), 'tags': ['bulk', 'insert'], 'text': 'Another post!'}\n",
      "{'_id': 1001, 'author': 'Maxsu', 'date': datetime.datetime(2019, 11, 10, 10, 45), 'text': 'and pretty easy too!', 'title': 'MongoDB is fun'}\n"
     ]
    }
   ],
   "source": [
    "for post in mydb[\"you\"].find({}).skip(2):\n",
    "    print(post)"
   ]
  },
  {
   "cell_type": "markdown",
   "metadata": {},
   "source": [
    "### 資料依據某特徵排序"
   ]
  },
  {
   "cell_type": "code",
   "execution_count": 240,
   "metadata": {},
   "outputs": [
    {
     "name": "stdout",
     "output_type": "stream",
     "text": [
      "{'_id': 555, 'author': 'Maxsu', 'date': datetime.datetime(2017, 7, 2, 21, 30, 38, 402000), 'tags': ['mongodb', 'python', 'pymongo'], 'text': 'My first blog post!'}\n",
      "{'_id': 999, 'author': 'Kuber', 'date': datetime.datetime(2017, 7, 3, 14, 14, 8, 28000), 'tags': ['Docker', 'Shell', 'pymongo'], 'text': 'This is is my first post!'}\n",
      "{'_id': 1000, 'author': 'Curry', 'date': datetime.datetime(2017, 11, 12, 11, 14), 'tags': ['bulk', 'insert'], 'text': 'Another post!'}\n",
      "{'_id': 1001, 'author': 'Maxsu', 'date': datetime.datetime(2019, 11, 10, 10, 45), 'text': 'and pretty easy too!', 'title': 'MongoDB is fun'}\n"
     ]
    }
   ],
   "source": [
    "for post in mydb[\"you\"].find({}):\n",
    "    print(post)"
   ]
  },
  {
   "cell_type": "code",
   "execution_count": 241,
   "metadata": {},
   "outputs": [
    {
     "name": "stdout",
     "output_type": "stream",
     "text": [
      "{'_id': 1000, 'author': 'Curry', 'date': datetime.datetime(2017, 11, 12, 11, 14), 'tags': ['bulk', 'insert'], 'text': 'Another post!'}\n",
      "{'_id': 999, 'author': 'Kuber', 'date': datetime.datetime(2017, 7, 3, 14, 14, 8, 28000), 'tags': ['Docker', 'Shell', 'pymongo'], 'text': 'This is is my first post!'}\n",
      "{'_id': 555, 'author': 'Maxsu', 'date': datetime.datetime(2017, 7, 2, 21, 30, 38, 402000), 'tags': ['mongodb', 'python', 'pymongo'], 'text': 'My first blog post!'}\n",
      "{'_id': 1001, 'author': 'Maxsu', 'date': datetime.datetime(2019, 11, 10, 10, 45), 'text': 'and pretty easy too!', 'title': 'MongoDB is fun'}\n"
     ]
    }
   ],
   "source": [
    "for post in mydb[\"you\"].find({}).sort(\"author\",pymongo.ASCENDING):  # sort排序 ASCENDING遞增\n",
    "    print(post)"
   ]
  },
  {
   "cell_type": "markdown",
   "metadata": {},
   "source": [
    "### Aggregate()方法"
   ]
  },
  {
   "cell_type": "code",
   "execution_count": 249,
   "metadata": {},
   "outputs": [
    {
     "data": {
      "text/plain": [
       "<pymongo.results.InsertManyResult at 0x14aec160e40>"
      ]
     },
     "execution_count": 249,
     "metadata": {},
     "output_type": "execute_result"
    }
   ],
   "source": [
    "mydb[\"article\"].insert_many([\n",
    "{\n",
    "   \"_id\": 100,\n",
    "   \"title\": 'MongoDB Overview',\n",
    "   \"description\": 'MongoDB is no sql database',\n",
    "   \"by_user\": 'Maxsu',\n",
    "   \"url\": 'http://www.yiibai.com',\n",
    "   \"tags\": ['mongodb', 'database', 'NoSQL'],\n",
    "   \"likes\": 100\n",
    "},\n",
    "{\n",
    "   \"_id\": 101,\n",
    "   \"title\": 'NoSQL Overview', \n",
    "   \"description\": 'No sql database is very fast',\n",
    "   \"by_user\": 'Maxsu',\n",
    "   \"url\": 'http://www.yiibai.com',\n",
    "   \"tags\": ['mongodb', 'database', 'NoSQL'],\n",
    "   \"likes\": 10\n",
    "},\n",
    "{\n",
    "   \"_id\": 102,\n",
    "   \"title\": 'Neo4j Overview', \n",
    "   \"description\": 'Neo4j is no sql database',\n",
    "   \"by_user\": 'Kuber',\n",
    "   \"url\": 'http://www.neo4j.com',\n",
    "   \"tags\": ['neo4j', 'database', 'NoSQL'],\n",
    "   \"likes\": 750\n",
    "},\n",
    "{\n",
    "   \"_id\": 103,\n",
    "   \"title\": 'MySQL Overview', \n",
    "   \"description\": 'MySQL is sql database',\n",
    "   \"by_user\": 'Curry',\n",
    "   \"url\": 'http://www.yiibai.com/mysql/',\n",
    "   \"tags\": ['MySQL', 'database', 'SQL'],\n",
    "   \"likes\": 350\n",
    "}])"
   ]
  },
  {
   "cell_type": "code",
   "execution_count": 269,
   "metadata": {},
   "outputs": [
    {
     "data": {
      "text/plain": [
       "<pymongo.command_cursor.CommandCursor at 0x14aecd638e0>"
      ]
     },
     "execution_count": 269,
     "metadata": {},
     "output_type": "execute_result"
    }
   ],
   "source": [
    "mydb[\"article\"].aggregate([{\"$group\" : {\"_id\" : \"$title\", \"num_tutorial\" : {\"$sum\" : 1}}}])"
   ]
  },
  {
   "cell_type": "code",
   "execution_count": 275,
   "metadata": {},
   "outputs": [
    {
     "name": "stdout",
     "output_type": "stream",
     "text": [
      "{'_id': 'Curry', 'num_tutorial': 1}\n",
      "{'_id': 'Kuber', 'num_tutorial': 1}\n",
      "{'_id': 'Maxsu', 'num_tutorial': 2}\n"
     ]
    }
   ],
   "source": [
    "for i in mydb[\"article\"].aggregate([{\"$group\" : {\"_id\" : \"$by_user\", \"num_tutorial\" : {\"$sum\" : 1}}}]):  #統計結果，求和每有一個加1\n",
    "    print(i)"
   ]
  },
  {
   "cell_type": "code",
   "execution_count": 279,
   "metadata": {},
   "outputs": [
    {
     "name": "stdout",
     "output_type": "stream",
     "text": [
      "{'_id': 'Maxsu', 'totle_like': 110}\n",
      "{'_id': 'Kuber', 'totle_like': 750}\n",
      "{'_id': 'Curry', 'totle_like': 350}\n"
     ]
    }
   ],
   "source": [
    "for i in mydb[\"article\"].aggregate([{\"$group\" : {\"_id\" : \"$by_user\", \"totle_like\" : {\"$sum\" :\"$likes\"}}}]):\n",
    "    print(i)"
   ]
  },
  {
   "cell_type": "code",
   "execution_count": 280,
   "metadata": {},
   "outputs": [
    {
     "name": "stdout",
     "output_type": "stream",
     "text": [
      "{'_id': 'Curry', 'avg_like': 350.0}\n",
      "{'_id': 'Kuber', 'avg_like': 750.0}\n",
      "{'_id': 'Maxsu', 'avg_like': 55.0}\n"
     ]
    }
   ],
   "source": [
    "for i in mydb[\"article\"].aggregate([{\"$group\" : {\"_id\" : \"$by_user\", \"avg_like\" : {\"$avg\" :\"$likes\"}}}]):\n",
    "    print(i)"
   ]
  },
  {
   "cell_type": "markdown",
   "metadata": {},
   "source": [
    "### 建立索引"
   ]
  },
  {
   "cell_type": "code",
   "execution_count": 292,
   "metadata": {},
   "outputs": [
    {
     "data": {
      "text/plain": [
       "'user_id_1'"
      ]
     },
     "execution_count": 292,
     "metadata": {},
     "output_type": "execute_result"
    }
   ],
   "source": [
    " mydb[\"nccu\"].create_index([('user_id', pymongo.ASCENDING)], unique=True)"
   ]
  },
  {
   "cell_type": "code",
   "execution_count": 293,
   "metadata": {},
   "outputs": [
    {
     "data": {
      "text/plain": [
       "<pymongo.results.InsertOneResult at 0x14aec1a8600>"
      ]
     },
     "execution_count": 293,
     "metadata": {},
     "output_type": "execute_result"
    }
   ],
   "source": [
    "mydb[\"nccu\"].insert_one({\"name\":\"張和\",\"user_id\":28})\n",
    "mydb[\"nccu\"].insert_one({\"name\":\"宣甫\",\"user_id\":1})\n",
    "mydb[\"nccu\"].insert_one({\"name\":\"秋全\",\"user_id\":24})"
   ]
  },
  {
   "cell_type": "markdown",
   "metadata": {},
   "source": [
    "# CRUD "
   ]
  },
  {
   "cell_type": "markdown",
   "metadata": {},
   "source": [
    "![image.png](mongodb運算子.png)"
   ]
  },
  {
   "cell_type": "markdown",
   "metadata": {},
   "source": [
    "### 新增"
   ]
  },
  {
   "cell_type": "code",
   "execution_count": 120,
   "metadata": {},
   "outputs": [
    {
     "data": {
      "text/plain": [
       "<pymongo.results.InsertOneResult at 0x14aec11b3c0>"
      ]
     },
     "execution_count": 120,
     "metadata": {},
     "output_type": "execute_result"
    }
   ],
   "source": [
    "mydb[\"student\"].insert_one({\"name\":\"yun\",\"age\":\"18\"})"
   ]
  },
  {
   "cell_type": "code",
   "execution_count": 126,
   "metadata": {},
   "outputs": [
    {
     "name": "stdout",
     "output_type": "stream",
     "text": [
      "新增成功\n"
     ]
    }
   ],
   "source": [
    "if mydb[\"student\"].find_one({\"name\":\"yun\"}):\n",
    "    print(\"新增成功\")\n",
    "else :\n",
    "    print(\"新增失敗\")"
   ]
  },
  {
   "cell_type": "markdown",
   "metadata": {},
   "source": [
    "### 查詢"
   ]
  },
  {
   "cell_type": "code",
   "execution_count": 117,
   "metadata": {},
   "outputs": [
    {
     "data": {
      "text/plain": [
       "{'_id': ObjectId('620b3064435faa7eb730f15e'), 'name': 'yun', 'age': '18'}"
      ]
     },
     "execution_count": 117,
     "metadata": {},
     "output_type": "execute_result"
    }
   ],
   "source": [
    "mydb[\"student\"].find_one({\"name\":\"yun\"})"
   ]
  },
  {
   "cell_type": "markdown",
   "metadata": {},
   "source": [
    "### 更新"
   ]
  },
  {
   "cell_type": "code",
   "execution_count": 132,
   "metadata": {},
   "outputs": [
    {
     "data": {
      "text/plain": [
       "<pymongo.results.UpdateResult at 0x14aec13a540>"
      ]
     },
     "execution_count": 132,
     "metadata": {},
     "output_type": "execute_result"
    }
   ],
   "source": [
    "mydb[\"student\"].update_one({\"name\":\"yun\"},{\"$set\":{\"age\":\"24\"}})"
   ]
  },
  {
   "cell_type": "code",
   "execution_count": 133,
   "metadata": {},
   "outputs": [
    {
     "name": "stdout",
     "output_type": "stream",
     "text": [
      "更新成功\n"
     ]
    }
   ],
   "source": [
    "if mydb[\"student\"].find_one({\"name\":\"yun\",\"age\":\"24\"}):\n",
    "    print(\"更新成功\")\n",
    "else :\n",
    "    print(\"更新失敗\")"
   ]
  },
  {
   "cell_type": "markdown",
   "metadata": {},
   "source": [
    "### 刪除"
   ]
  },
  {
   "cell_type": "code",
   "execution_count": 136,
   "metadata": {},
   "outputs": [
    {
     "data": {
      "text/plain": [
       "<pymongo.results.DeleteResult at 0x14aec136400>"
      ]
     },
     "execution_count": 136,
     "metadata": {},
     "output_type": "execute_result"
    }
   ],
   "source": [
    "mydb[\"student\"].delete_one({\"name\":\"yun\"})"
   ]
  },
  {
   "cell_type": "code",
   "execution_count": 137,
   "metadata": {},
   "outputs": [
    {
     "name": "stdout",
     "output_type": "stream",
     "text": [
      "刪除成功\n"
     ]
    }
   ],
   "source": [
    "if mydb[\"student\"].find_one({\"name\":\"yun\"}):\n",
    "    print(\"刪除失敗\")\n",
    "else :\n",
    "    print(\"刪除成功\")"
   ]
  },
  {
   "cell_type": "markdown",
   "metadata": {},
   "source": [
    "## 匯入真實資料操作"
   ]
  },
  {
   "cell_type": "code",
   "execution_count": 431,
   "metadata": {},
   "outputs": [],
   "source": [
    "import csv\n",
    "import json\n",
    "\n",
    "import numpy as np\n",
    "import pandas as pd"
   ]
  },
  {
   "cell_type": "code",
   "execution_count": 432,
   "metadata": {},
   "outputs": [],
   "source": [
    "data = pd.read_csv(\"vote_data.csv\")"
   ]
  },
  {
   "cell_type": "code",
   "execution_count": 433,
   "metadata": {},
   "outputs": [],
   "source": [
    "data.rename(columns={data.columns[0]:'_id'},inplace=True)"
   ]
  },
  {
   "cell_type": "code",
   "execution_count": 438,
   "metadata": {},
   "outputs": [],
   "source": [
    "for i in range(data.shape[0]):\n",
    "    try:\n",
    "        mydb[\"vote\"].insert_one(dict(data.iloc[i,:]))\n",
    "    except:\n",
    "        n = {}\n",
    "        for k, v in dict(data.iloc[i,:]).items():\n",
    "            if isinstance(v, np.int64):\n",
    "                v = int(v)\n",
    "            n[k]= v\n",
    "\n",
    "        mydb[\"vote\"].insert_one(n)"
   ]
  },
  {
   "cell_type": "code",
   "execution_count": 323,
   "metadata": {},
   "outputs": [
    {
     "name": "stdout",
     "output_type": "stream",
     "text": [
      "                                                     0\n",
      "0    ﻿,縣市行政區,同意票數,不同意票數,有效票數,無效票數,投票數,投票權人數,已完成投票所投...\n",
      "1    0,臺北市松山區,\"42,583\",\"37,246\",\"79,829\",743,\"80,57...\n",
      "2    1,臺北市信義區,\"45,522\",\"38,628\",\"84,150\",843,\"84,99...\n",
      "3    2,臺北市大安區,\"64,621\",\"52,374\",\"116,995\",\"1,132\",\"...\n",
      "4    3,臺北市中山區,\"41,082\",\"45,181\",\"86,263\",794,\"87,05...\n",
      "..                                                 ...\n",
      "364  363,新竹市東區,\"42,096\",\"34,243\",\"76,339\",891,\"77,2...\n",
      "365  364,新竹市北區,\"27,138\",\"25,882\",\"53,020\",657,\"53,6...\n",
      "366  365,新竹市香山區,\"12,213\",\"13,399\",\"25,612\",353,\"25,...\n",
      "367  366,嘉義市東區,\"19,300\",\"23,106\",\"42,406\",311,\"42,7...\n",
      "368  367,嘉義市西區,\"20,601\",\"29,202\",\"49,803\",413,\"50,2...\n",
      "\n",
      "[369 rows x 1 columns]\n"
     ]
    }
   ],
   "source": [
    "with open (\"vote_data.csv\",mode=\"r\",encoding=\"utf-8\",newline='') as file:\n",
    "    data = pd.DataFrame(file)\n",
    "print(data)"
   ]
  },
  {
   "cell_type": "code",
   "execution_count": 322,
   "metadata": {},
   "outputs": [
    {
     "data": {
      "text/html": [
       "<div>\n",
       "<style scoped>\n",
       "    .dataframe tbody tr th:only-of-type {\n",
       "        vertical-align: middle;\n",
       "    }\n",
       "\n",
       "    .dataframe tbody tr th {\n",
       "        vertical-align: top;\n",
       "    }\n",
       "\n",
       "    .dataframe thead th {\n",
       "        text-align: right;\n",
       "    }\n",
       "</style>\n",
       "<table border=\"1\" class=\"dataframe\">\n",
       "  <thead>\n",
       "    <tr style=\"text-align: right;\">\n",
       "      <th></th>\n",
       "      <th>0</th>\n",
       "    </tr>\n",
       "  </thead>\n",
       "  <tbody>\n",
       "    <tr>\n",
       "      <th>0</th>\n",
       "      <td>﻿,縣市行政區,同意票數,不同意票數,有效票數,無效票數,投票數,投票權人數,已完成投票所投...</td>\n",
       "    </tr>\n",
       "    <tr>\n",
       "      <th>1</th>\n",
       "      <td>0,臺北市松山區,\"42,583\",\"37,246\",\"79,829\",743,\"80,57...</td>\n",
       "    </tr>\n",
       "    <tr>\n",
       "      <th>2</th>\n",
       "      <td>1,臺北市信義區,\"45,522\",\"38,628\",\"84,150\",843,\"84,99...</td>\n",
       "    </tr>\n",
       "    <tr>\n",
       "      <th>3</th>\n",
       "      <td>2,臺北市大安區,\"64,621\",\"52,374\",\"116,995\",\"1,132\",\"...</td>\n",
       "    </tr>\n",
       "    <tr>\n",
       "      <th>4</th>\n",
       "      <td>3,臺北市中山區,\"41,082\",\"45,181\",\"86,263\",794,\"87,05...</td>\n",
       "    </tr>\n",
       "    <tr>\n",
       "      <th>...</th>\n",
       "      <td>...</td>\n",
       "    </tr>\n",
       "    <tr>\n",
       "      <th>364</th>\n",
       "      <td>363,新竹市東區,\"42,096\",\"34,243\",\"76,339\",891,\"77,2...</td>\n",
       "    </tr>\n",
       "    <tr>\n",
       "      <th>365</th>\n",
       "      <td>364,新竹市北區,\"27,138\",\"25,882\",\"53,020\",657,\"53,6...</td>\n",
       "    </tr>\n",
       "    <tr>\n",
       "      <th>366</th>\n",
       "      <td>365,新竹市香山區,\"12,213\",\"13,399\",\"25,612\",353,\"25,...</td>\n",
       "    </tr>\n",
       "    <tr>\n",
       "      <th>367</th>\n",
       "      <td>366,嘉義市東區,\"19,300\",\"23,106\",\"42,406\",311,\"42,7...</td>\n",
       "    </tr>\n",
       "    <tr>\n",
       "      <th>368</th>\n",
       "      <td>367,嘉義市西區,\"20,601\",\"29,202\",\"49,803\",413,\"50,2...</td>\n",
       "    </tr>\n",
       "  </tbody>\n",
       "</table>\n",
       "<p>369 rows × 1 columns</p>\n",
       "</div>"
      ],
      "text/plain": [
       "                                                     0\n",
       "0    ﻿,縣市行政區,同意票數,不同意票數,有效票數,無效票數,投票數,投票權人數,已完成投票所投...\n",
       "1    0,臺北市松山區,\"42,583\",\"37,246\",\"79,829\",743,\"80,57...\n",
       "2    1,臺北市信義區,\"45,522\",\"38,628\",\"84,150\",843,\"84,99...\n",
       "3    2,臺北市大安區,\"64,621\",\"52,374\",\"116,995\",\"1,132\",\"...\n",
       "4    3,臺北市中山區,\"41,082\",\"45,181\",\"86,263\",794,\"87,05...\n",
       "..                                                 ...\n",
       "364  363,新竹市東區,\"42,096\",\"34,243\",\"76,339\",891,\"77,2...\n",
       "365  364,新竹市北區,\"27,138\",\"25,882\",\"53,020\",657,\"53,6...\n",
       "366  365,新竹市香山區,\"12,213\",\"13,399\",\"25,612\",353,\"25,...\n",
       "367  366,嘉義市東區,\"19,300\",\"23,106\",\"42,406\",311,\"42,7...\n",
       "368  367,嘉義市西區,\"20,601\",\"29,202\",\"49,803\",413,\"50,2...\n",
       "\n",
       "[369 rows x 1 columns]"
      ]
     },
     "execution_count": 322,
     "metadata": {},
     "output_type": "execute_result"
    }
   ],
   "source": [
    "  data"
   ]
  },
  {
   "cell_type": "code",
   "execution_count": null,
   "metadata": {},
   "outputs": [],
   "source": []
  }
 ],
 "metadata": {
  "interpreter": {
   "hash": "e880b6a5c7a5f4b142d9f445d0f040070dabb42b7abdaabc6906731dc44ddb78"
  },
  "kernelspec": {
   "display_name": "Python 3.8.10 ('tensorflow')",
   "language": "python",
   "name": "python3"
  },
  "language_info": {
   "codemirror_mode": {
    "name": "ipython",
    "version": 3
   },
   "file_extension": ".py",
   "mimetype": "text/x-python",
   "name": "python",
   "nbconvert_exporter": "python",
   "pygments_lexer": "ipython3",
   "version": "3.8.10"
  },
  "orig_nbformat": 4
 },
 "nbformat": 4,
 "nbformat_minor": 2
}
