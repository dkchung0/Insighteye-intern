{
 "cells": [
  {
   "cell_type": "code",
   "execution_count": 1,
   "metadata": {},
   "outputs": [],
   "source": [
    "import numpy as np\n",
    "import pandas as pd\n",
    "\n",
    "from time import process_time\n",
    "from tqdm.auto import tqdm\n",
    "\n",
    "import re"
   ]
  },
  {
   "cell_type": "code",
   "execution_count": 2,
   "metadata": {},
   "outputs": [],
   "source": [
    "import requests\n",
    "from bs4 import BeautifulSoup \n",
    "from selenium import webdriver\n",
    "from webdriver_manager.chrome import ChromeDriverManager"
   ]
  },
  {
   "cell_type": "code",
   "execution_count": 3,
   "metadata": {},
   "outputs": [],
   "source": [
    "import pymongo\n",
    "from pymongo import MongoClient"
   ]
  },
  {
   "cell_type": "code",
   "execution_count": 61,
   "metadata": {},
   "outputs": [
    {
     "name": "stderr",
     "output_type": "stream",
     "text": [
      "<ipython-input-61-b2cc4c1ac33d>:2: DeprecationWarning: executable_path has been deprecated, please pass in a Service object\n",
      "  driver = webdriver.Chrome(path) #開啟\n"
     ]
    }
   ],
   "source": [
    "path = 'C:/Users/s0970/python/701網路爬蟲/chromedriver.exe'\n",
    "driver = webdriver.Chrome(path) #開啟"
   ]
  },
  {
   "cell_type": "code",
   "execution_count": 62,
   "metadata": {},
   "outputs": [
    {
     "name": "stderr",
     "output_type": "stream",
     "text": [
      "<ipython-input-62-128daabf361a>:2: DeprecationWarning: find_element_by_* commands are deprecated. Please use find_element() instead\n",
      "  driver.find_element_by_name(\"nodeIcon2\").click()\n"
     ]
    }
   ],
   "source": [
    "driver.get(\"https://referendum.2021.nat.gov.tw/pc/zh_TW/IDX/indexFF.html\")\n",
    "driver.find_element_by_name(\"nodeIcon2\").click()\n",
    "\n",
    "html = BeautifulSoup(driver.page_source, 'html.parser')\n",
    "\n",
    "number = []\n",
    "for i in html.select('div[id=\"domRoot\"] div[id]'):\n",
    "    number.append(i.attrs[\"id\"])\n",
    "\n",
    "pattern = re.compile(r'(?<=folder)\\d+')\n",
    "\n",
    "num = [int(pattern.findall(i)[0]) for i in number[3:25]]\n",
    "\n",
    "numbers=[]\n",
    "\n",
    "for j in range(len(num)-1): # 最後一個嘉義市另外看\n",
    "    numbers.append([num[j]+i+1 for i in range(num[j+1]-num[j]-1)]) \n",
    "\n",
    "numbers.append([391,392])"
   ]
  },
  {
   "cell_type": "code",
   "execution_count": 63,
   "metadata": {},
   "outputs": [
    {
     "name": "stderr",
     "output_type": "stream",
     "text": [
      "<ipython-input-63-c4f99386fca4>:1: DeprecationWarning: executable_path has been deprecated, please pass in a Service object\n",
      "  driver = webdriver.Chrome(path)\n"
     ]
    }
   ],
   "source": [
    "driver = webdriver.Chrome(path) \n",
    "\n",
    "def vote_data(city,adms):\n",
    "    \n",
    "    driver.get(\"https://referendum.2021.nat.gov.tw/pc/zh_TW/IDX/indexFF.html\")\n",
    "\n",
    "    driver.find_element_by_name(\"nodeIcon2\").click()\n",
    "    driver.find_element_by_name(\"nodeIcon{}\".format(city)).click()\n",
    "    driver.find_element_by_id(\"itemTextLink{}\".format(adms)).click()\n",
    "\n",
    "    html = BeautifulSoup(driver.page_source, 'html.parser')\n",
    "\n",
    "\n",
    "    pattern = re.compile(r'(?<=\\xa0-\\xa0)\\w+')\n",
    "    Adm = pattern.findall(html.select('td[valign=\"bottom\"]')[0].text)[0]\n",
    "\n",
    "    pattern = re.compile(r'(?<=\\xa0)\\d+')\n",
    "    vote = int(pattern.findall(html.select('td[align=\"right\"]')[0].text)[0])\n",
    "\n",
    "    df = [i.text for i in html.select('tr.trT td')]\n",
    "\n",
    "    df.insert(0,Adm)\n",
    "    df.append(vote)\n",
    "\n",
    "    return df"
   ]
  },
  {
   "cell_type": "code",
   "execution_count": 64,
   "metadata": {},
   "outputs": [],
   "source": [
    "cols=[\"縣市行政區\",\"同意票數\",\"不同意票數\",\"有效票數\",\"無效票數\",\"投票數\",\"投票權人數\",\"已完成投票所投票率(%)\",\"有效同意票數對投票權人數(%)\",\"已完成投票所\"]"
   ]
  },
  {
   "cell_type": "code",
   "execution_count": 68,
   "metadata": {},
   "outputs": [],
   "source": [
    "client = MongoClient('localhost', 27017)\n",
    "mydb = client[\"test\"]"
   ]
  },
  {
   "cell_type": "code",
   "execution_count": 70,
   "metadata": {},
   "outputs": [
    {
     "name": "stderr",
     "output_type": "stream",
     "text": [
      "<ipython-input-63-c4f99386fca4>:7: DeprecationWarning: find_element_by_* commands are deprecated. Please use find_element() instead\n",
      "  driver.find_element_by_name(\"nodeIcon2\").click()\n",
      "<ipython-input-63-c4f99386fca4>:8: DeprecationWarning: find_element_by_* commands are deprecated. Please use find_element() instead\n",
      "  driver.find_element_by_name(\"nodeIcon{}\".format(city)).click()\n",
      "<ipython-input-63-c4f99386fca4>:9: DeprecationWarning: find_element_by_* commands are deprecated. Please use find_element() instead\n",
      "  driver.find_element_by_id(\"itemTextLink{}\".format(adms)).click()\n"
     ]
    }
   ],
   "source": [
    "k=-1\n",
    "for i in num:\n",
    "    k+=1\n",
    "    for j in numbers[k]:\n",
    "        if  mydb[\"vote_final\"].find_one({\"縣市行政區\":vote_data(i,j)[0]}):\n",
    "            print(\"'{}'資料已新增\".format(vote_data(i,j)[0]))\n",
    "        else:\n",
    "            try:\n",
    "                mydb[\"vote_final\"].insert_one(dict(zip(cols,vote_data(i,j))))\n",
    "            except:\n",
    "                n = {}\n",
    "                for k, v in dict(zip(cols,vote_data(i,j))).items():\n",
    "                    if isinstance(v, np.int64):\n",
    "                        v = int(v)\n",
    "                    n[k]= v\n",
    "\n",
    "                mydb[\"vote_final\"].insert_one(n)"
   ]
  }
 ],
 "metadata": {
  "interpreter": {
   "hash": "e880b6a5c7a5f4b142d9f445d0f040070dabb42b7abdaabc6906731dc44ddb78"
  },
  "kernelspec": {
   "display_name": "Python 3.8.10 ('tensorflow')",
   "language": "python",
   "name": "python3"
  },
  "language_info": {
   "codemirror_mode": {
    "name": "ipython",
    "version": 3
   },
   "file_extension": ".py",
   "mimetype": "text/x-python",
   "name": "python",
   "nbconvert_exporter": "python",
   "pygments_lexer": "ipython3",
   "version": "3.8.10"
  },
  "orig_nbformat": 4
 },
 "nbformat": 4,
 "nbformat_minor": 2
}
