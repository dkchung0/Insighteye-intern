{
 "cells": [
  {
   "cell_type": "code",
   "execution_count": 1,
   "metadata": {},
   "outputs": [],
   "source": [
    "import numpy as np\n",
    "import pandas as pd\n",
    "\n",
    "from time import process_time\n",
    "from tqdm.auto import tqdm"
   ]
  },
  {
   "cell_type": "code",
   "execution_count": 24,
   "metadata": {},
   "outputs": [],
   "source": [
    "import requests\n",
    "from bs4 import BeautifulSoup \n",
    "from selenium import webdriver\n",
    "from webdriver_manager.chrome import ChromeDriverManager"
   ]
  },
  {
   "cell_type": "code",
   "execution_count": 38,
   "metadata": {},
   "outputs": [],
   "source": [
    "path = 'C:/Users/s0970/python/701網路爬蟲/chromedriver.exe'"
   ]
  },
  {
   "cell_type": "code",
   "execution_count": 66,
   "metadata": {},
   "outputs": [
    {
     "name": "stderr",
     "output_type": "stream",
     "text": [
      "<ipython-input-66-60bd7adf2b89>:1: DeprecationWarning: executable_path has been deprecated, please pass in a Service object\n",
      "  driver = webdriver.Chrome(path) #開啟\n"
     ]
    }
   ],
   "source": [
    "driver = webdriver.Chrome(path) #開啟"
   ]
  },
  {
   "cell_type": "markdown",
   "metadata": {},
   "source": [
    "## 試抓某個縣市某個行政區的資料"
   ]
  },
  {
   "cell_type": "code",
   "execution_count": 194,
   "metadata": {},
   "outputs": [
    {
     "name": "stderr",
     "output_type": "stream",
     "text": [
      "<ipython-input-194-ec32d294270f>:3: DeprecationWarning: find_element_by_* commands are deprecated. Please use find_element() instead\n",
      "  driver.find_element_by_name(\"nodeIcon2\").click()\n",
      "<ipython-input-194-ec32d294270f>:4: DeprecationWarning: find_element_by_* commands are deprecated. Please use find_element() instead\n",
      "  driver.find_element_by_name(\"nodeIcon3\").click()\n",
      "<ipython-input-194-ec32d294270f>:5: DeprecationWarning: find_element_by_* commands are deprecated. Please use find_element() instead\n",
      "  driver.find_element_by_id(\"itemTextLink4\").click()\n"
     ]
    }
   ],
   "source": [
    "driver.get(\"https://referendum.2021.nat.gov.tw/pc/zh_TW/IDX/indexFF.html\")\n",
    "\n",
    "driver.find_element_by_name(\"nodeIcon2\").click()\n",
    "driver.find_element_by_name(\"nodeIcon3\").click()\n",
    "driver.find_element_by_id(\"itemTextLink4\").click()\n",
    "\n",
    "html = BeautifulSoup(driver.page_source, 'html.parser')\n",
    "\n"
   ]
  },
  {
   "cell_type": "code",
   "execution_count": 195,
   "metadata": {},
   "outputs": [],
   "source": [
    "import re"
   ]
  },
  {
   "cell_type": "markdown",
   "metadata": {},
   "source": [
    "#### 縣市、行政區"
   ]
  },
  {
   "cell_type": "code",
   "execution_count": 196,
   "metadata": {},
   "outputs": [
    {
     "data": {
      "text/plain": [
       "'第17案\\xa0全國性\\xa0公民投票結果\\xa0-\\xa0臺北市松山區'"
      ]
     },
     "execution_count": 196,
     "metadata": {},
     "output_type": "execute_result"
    }
   ],
   "source": [
    "html.select('td[valign=\"bottom\"]')[0].text"
   ]
  },
  {
   "cell_type": "code",
   "execution_count": 197,
   "metadata": {},
   "outputs": [
    {
     "name": "stdout",
     "output_type": "stream",
     "text": [
      "臺北市松山區\n"
     ]
    }
   ],
   "source": [
    "pattern = re.compile(r'(?<=\\xa0-\\xa0)\\w+')\n",
    "print(pattern.findall(html.select('td[valign=\"bottom\"]')[0].text)[0])\n",
    "\n",
    "Adm = pattern.findall(html.select('td[valign=\"bottom\"]')[0].text)[0]"
   ]
  },
  {
   "cell_type": "markdown",
   "metadata": {},
   "source": [
    "#### 同意票數、不同意票數、有效票數、無效票數、投票數、投票權人數、投票率(%) 有效同意票數對投票權人數(%)"
   ]
  },
  {
   "cell_type": "code",
   "execution_count": 121,
   "metadata": {},
   "outputs": [
    {
     "data": {
      "text/plain": [
       "[<td>42,583</td>,\n",
       " <td>37,246</td>,\n",
       " <td>79,829</td>,\n",
       " <td>743</td>,\n",
       " <td>80,572</td>,\n",
       " <td>162,964</td>,\n",
       " <td>49.44%</td>,\n",
       " <td>26.13%</td>]"
      ]
     },
     "execution_count": 121,
     "metadata": {},
     "output_type": "execute_result"
    }
   ],
   "source": [
    "html.select('tr.trT td')"
   ]
  },
  {
   "cell_type": "markdown",
   "metadata": {},
   "source": [
    "#### 已完成投票所"
   ]
  },
  {
   "cell_type": "code",
   "execution_count": 122,
   "metadata": {},
   "outputs": [
    {
     "data": {
      "text/plain": [
       "'投開票所數 已送/應送:\\xa0134/134\\xa0'"
      ]
     },
     "execution_count": 122,
     "metadata": {},
     "output_type": "execute_result"
    }
   ],
   "source": [
    "html.select('td[align=\"right\"]')[0].text"
   ]
  },
  {
   "cell_type": "code",
   "execution_count": 118,
   "metadata": {},
   "outputs": [
    {
     "name": "stdout",
     "output_type": "stream",
     "text": [
      "134\n"
     ]
    }
   ],
   "source": [
    "pattern = re.compile(r'(?<=\\xa0)\\d+')\n",
    "print(pattern.findall(html.select('td[align=\"right\"]')[0].text)[0])\n",
    "\n",
    "vote = int(pattern.findall(html.select('td[align=\"right\"]')[0].text)[0])"
   ]
  },
  {
   "cell_type": "code",
   "execution_count": 125,
   "metadata": {},
   "outputs": [
    {
     "data": {
      "text/plain": [
       "['臺北市松山區',\n",
       " '42,583',\n",
       " '37,246',\n",
       " '79,829',\n",
       " '743',\n",
       " '80,572',\n",
       " '162,964',\n",
       " '49.44%',\n",
       " '26.13%',\n",
       " 134]"
      ]
     },
     "execution_count": 125,
     "metadata": {},
     "output_type": "execute_result"
    }
   ],
   "source": [
    "df = [i.text for i in html.select('tr.trT td')]\n",
    "\n",
    "df.insert(0,Adm)\n",
    "df.append(vote)\n",
    "\n",
    "df"
   ]
  },
  {
   "cell_type": "markdown",
   "metadata": {},
   "source": [
    "## 找出各縣市行政區的關聯性"
   ]
  },
  {
   "cell_type": "code",
   "execution_count": 133,
   "metadata": {},
   "outputs": [
    {
     "name": "stderr",
     "output_type": "stream",
     "text": [
      "<ipython-input-133-c88071ff9ad5>:3: DeprecationWarning: find_element_by_* commands are deprecated. Please use find_element() instead\n",
      "  driver.find_element_by_name(\"nodeIcon2\").click()\n"
     ]
    }
   ],
   "source": [
    "driver.get(\"https://referendum.2021.nat.gov.tw/pc/zh_TW/IDX/indexFF.html\")\n",
    "\n",
    "driver.find_element_by_name(\"nodeIcon2\").click()"
   ]
  },
  {
   "cell_type": "code",
   "execution_count": 134,
   "metadata": {},
   "outputs": [],
   "source": [
    "html = BeautifulSoup(driver.page_source, 'html.parser')"
   ]
  },
  {
   "cell_type": "code",
   "execution_count": 151,
   "metadata": {},
   "outputs": [
    {
     "data": {
      "text/plain": [
       "[<div id=\"folder0\" style=\"display:block;\"><table border=\"0\" cellpadding=\"0\" cellspacing=\"0\" width=\"100%\"><tbody><tr><td valign=\"top\"><img height=\"2\" src=\"../images/ftv2blank.gif\" width=\"2\"/></td><td valign=\"middle\" width=\"100%\"><a>查詢項目</a></td></tr></tbody></table></div>,\n",
       " <div id=\"item1\" style=\"display: block;\"><table border=\"0\" cellpadding=\"0\" cellspacing=\"0\" width=\"100%\"><tbody><tr><td background=\"../images/ftv2vertline.gif\" valign=\"top\"><img height=\"22\" src=\"../images/ftv2node.gif\" width=\"16\"/></td><td valign=\"top\"><img height=\"2\" src=\"../images/ftv2blank.gif\" width=\"3\"/></td><td valign=\"middle\" width=\"100%\"><a href=\"../00/00000000000000000.html\" id=\"itemTextLink1\" onclick=\"clickOnLink('1', '../00/00000000000000000.html','_self');return false;\" target=\"_self\">全國性公投案結果</a></td></tr></tbody></table></div>,\n",
       " <div id=\"folder2\" style=\"display: block;\"><table border=\"0\" cellpadding=\"0\" cellspacing=\"0\" width=\"100%\"><tbody><tr><td background=\"../images/ftv2vertline.gif\" valign=\"top\"><a href='javascript:clickOnNode(\"2\")'><img border=\"0\" height=\"22\" id=\"nodeIcon2\" name=\"nodeIcon2\" src=\"../images/ftv2mnode.gif\" width=\"16\"/></a></td><td valign=\"top\"><img height=\"2\" src=\"../images/ftv2blank.gif\" width=\"2\"/></td><td valign=\"middle\" width=\"100%\"><a href=\"../01/00000000000000000.html\" id=\"itemTextLink2\" onclick='javascript:clickOnFolder(\"2\")' target=\"_top\">第17案</a></td></tr></tbody></table></div>,\n",
       " <div id=\"folder3\" style=\"display:block;\"><table border=\"0\" cellpadding=\"0\" cellspacing=\"0\" width=\"100%\"><tbody><tr><td background=\"../images/ftv2vertline.gif\" valign=\"top\"><img height=\"22\" src=\"../images/ftv2vertline.gif\" width=\"16\"/></td><td background=\"../images/ftv2vertline.gif\" valign=\"top\"><a href='javascript:clickOnNode(\"3\")'><img border=\"0\" height=\"22\" id=\"nodeIcon3\" name=\"nodeIcon3\" src=\"../images/ftv2pnode.gif\" width=\"16\"/></a></td><td valign=\"top\"><img height=\"2\" src=\"../images/ftv2blank.gif\" width=\"2\"/></td><td valign=\"middle\" width=\"100%\"><a href=\"../01/63000000000000000.html\" id=\"itemTextLink3\" onclick='javascript:clickOnFolder(\"3\")' target=\"_top\">臺北市</a></td></tr></tbody></table></div>,\n",
       " <div id=\"folder16\" style=\"display:block;\"><table border=\"0\" cellpadding=\"0\" cellspacing=\"0\" width=\"100%\"><tbody><tr><td background=\"../images/ftv2vertline.gif\" valign=\"top\"><img height=\"22\" src=\"../images/ftv2vertline.gif\" width=\"16\"/></td><td background=\"../images/ftv2vertline.gif\" valign=\"top\"><a href='javascript:clickOnNode(\"16\")'><img border=\"0\" height=\"22\" id=\"nodeIcon16\" name=\"nodeIcon16\" src=\"../images/ftv2pnode.gif\" width=\"16\"/></a></td><td valign=\"top\"><img height=\"2\" src=\"../images/ftv2blank.gif\" width=\"2\"/></td><td valign=\"middle\" width=\"100%\"><a href=\"../01/65000000000000000.html\" id=\"itemTextLink16\" onclick='javascript:clickOnFolder(\"16\")' target=\"_top\">新北市</a></td></tr></tbody></table></div>,\n",
       " <div id=\"folder46\" style=\"display:block;\"><table border=\"0\" cellpadding=\"0\" cellspacing=\"0\" width=\"100%\"><tbody><tr><td background=\"../images/ftv2vertline.gif\" valign=\"top\"><img height=\"22\" src=\"../images/ftv2vertline.gif\" width=\"16\"/></td><td background=\"../images/ftv2vertline.gif\" valign=\"top\"><a href='javascript:clickOnNode(\"46\")'><img border=\"0\" height=\"22\" id=\"nodeIcon46\" name=\"nodeIcon46\" src=\"../images/ftv2pnode.gif\" width=\"16\"/></a></td><td valign=\"top\"><img height=\"2\" src=\"../images/ftv2blank.gif\" width=\"2\"/></td><td valign=\"middle\" width=\"100%\"><a href=\"../01/68000000000000000.html\" id=\"itemTextLink46\" onclick='javascript:clickOnFolder(\"46\")' target=\"_top\">桃園市</a></td></tr></tbody></table></div>,\n",
       " <div id=\"folder60\" style=\"display:block;\"><table border=\"0\" cellpadding=\"0\" cellspacing=\"0\" width=\"100%\"><tbody><tr><td background=\"../images/ftv2vertline.gif\" valign=\"top\"><img height=\"22\" src=\"../images/ftv2vertline.gif\" width=\"16\"/></td><td background=\"../images/ftv2vertline.gif\" valign=\"top\"><a href='javascript:clickOnNode(\"60\")'><img border=\"0\" height=\"22\" id=\"nodeIcon60\" name=\"nodeIcon60\" src=\"../images/ftv2pnode.gif\" width=\"16\"/></a></td><td valign=\"top\"><img height=\"2\" src=\"../images/ftv2blank.gif\" width=\"2\"/></td><td valign=\"middle\" width=\"100%\"><a href=\"../01/66000000000000000.html\" id=\"itemTextLink60\" onclick='javascript:clickOnFolder(\"60\")' target=\"_top\">臺中市</a></td></tr></tbody></table></div>,\n",
       " <div id=\"folder90\" style=\"display:block;\"><table border=\"0\" cellpadding=\"0\" cellspacing=\"0\" width=\"100%\"><tbody><tr><td background=\"../images/ftv2vertline.gif\" valign=\"top\"><img height=\"22\" src=\"../images/ftv2vertline.gif\" width=\"16\"/></td><td background=\"../images/ftv2vertline.gif\" valign=\"top\"><a href='javascript:clickOnNode(\"90\")'><img border=\"0\" height=\"22\" id=\"nodeIcon90\" name=\"nodeIcon90\" src=\"../images/ftv2pnode.gif\" width=\"16\"/></a></td><td valign=\"top\"><img height=\"2\" src=\"../images/ftv2blank.gif\" width=\"2\"/></td><td valign=\"middle\" width=\"100%\"><a href=\"../01/67000000000000000.html\" id=\"itemTextLink90\" onclick='javascript:clickOnFolder(\"90\")' target=\"_top\">臺南市</a></td></tr></tbody></table></div>,\n",
       " <div id=\"folder128\" style=\"display:block;\"><table border=\"0\" cellpadding=\"0\" cellspacing=\"0\" width=\"100%\"><tbody><tr><td background=\"../images/ftv2vertline.gif\" valign=\"top\"><img height=\"22\" src=\"../images/ftv2vertline.gif\" width=\"16\"/></td><td background=\"../images/ftv2vertline.gif\" valign=\"top\"><a href='javascript:clickOnNode(\"128\")'><img border=\"0\" height=\"22\" id=\"nodeIcon128\" name=\"nodeIcon128\" src=\"../images/ftv2pnode.gif\" width=\"16\"/></a></td><td valign=\"top\"><img height=\"2\" src=\"../images/ftv2blank.gif\" width=\"2\"/></td><td valign=\"middle\" width=\"100%\"><a href=\"../01/64000000000000000.html\" id=\"itemTextLink128\" onclick='javascript:clickOnFolder(\"128\")' target=\"_top\">高雄市</a></td></tr></tbody></table></div>,\n",
       " <div id=\"folder167\" style=\"display:block;\"><table border=\"0\" cellpadding=\"0\" cellspacing=\"0\" width=\"100%\"><tbody><tr><td background=\"../images/ftv2vertline.gif\" valign=\"top\"><img height=\"22\" src=\"../images/ftv2vertline.gif\" width=\"16\"/></td><td background=\"../images/ftv2vertline.gif\" valign=\"top\"><a href='javascript:clickOnNode(\"167\")'><img border=\"0\" height=\"22\" id=\"nodeIcon167\" name=\"nodeIcon167\" src=\"../images/ftv2pnode.gif\" width=\"16\"/></a></td><td valign=\"top\"><img height=\"2\" src=\"../images/ftv2blank.gif\" width=\"2\"/></td><td valign=\"middle\" width=\"100%\"><a href=\"../01/10004000000000000.html\" id=\"itemTextLink167\" onclick='javascript:clickOnFolder(\"167\")' target=\"_top\">新竹縣</a></td></tr></tbody></table></div>,\n",
       " <div id=\"folder181\" style=\"display:block;\"><table border=\"0\" cellpadding=\"0\" cellspacing=\"0\" width=\"100%\"><tbody><tr><td background=\"../images/ftv2vertline.gif\" valign=\"top\"><img height=\"22\" src=\"../images/ftv2vertline.gif\" width=\"16\"/></td><td background=\"../images/ftv2vertline.gif\" valign=\"top\"><a href='javascript:clickOnNode(\"181\")'><img border=\"0\" height=\"22\" id=\"nodeIcon181\" name=\"nodeIcon181\" src=\"../images/ftv2pnode.gif\" width=\"16\"/></a></td><td valign=\"top\"><img height=\"2\" src=\"../images/ftv2blank.gif\" width=\"2\"/></td><td valign=\"middle\" width=\"100%\"><a href=\"../01/10005000000000000.html\" id=\"itemTextLink181\" onclick='javascript:clickOnFolder(\"181\")' target=\"_top\">苗栗縣</a></td></tr></tbody></table></div>,\n",
       " <div id=\"folder200\" style=\"display:block;\"><table border=\"0\" cellpadding=\"0\" cellspacing=\"0\" width=\"100%\"><tbody><tr><td background=\"../images/ftv2vertline.gif\" valign=\"top\"><img height=\"22\" src=\"../images/ftv2vertline.gif\" width=\"16\"/></td><td background=\"../images/ftv2vertline.gif\" valign=\"top\"><a href='javascript:clickOnNode(\"200\")'><img border=\"0\" height=\"22\" id=\"nodeIcon200\" name=\"nodeIcon200\" src=\"../images/ftv2pnode.gif\" width=\"16\"/></a></td><td valign=\"top\"><img height=\"2\" src=\"../images/ftv2blank.gif\" width=\"2\"/></td><td valign=\"middle\" width=\"100%\"><a href=\"../01/10007000000000000.html\" id=\"itemTextLink200\" onclick='javascript:clickOnFolder(\"200\")' target=\"_top\">彰化縣</a></td></tr></tbody></table></div>,\n",
       " <div id=\"folder227\" style=\"display:block;\"><table border=\"0\" cellpadding=\"0\" cellspacing=\"0\" width=\"100%\"><tbody><tr><td background=\"../images/ftv2vertline.gif\" valign=\"top\"><img height=\"22\" src=\"../images/ftv2vertline.gif\" width=\"16\"/></td><td background=\"../images/ftv2vertline.gif\" valign=\"top\"><a href='javascript:clickOnNode(\"227\")'><img border=\"0\" height=\"22\" id=\"nodeIcon227\" name=\"nodeIcon227\" src=\"../images/ftv2pnode.gif\" width=\"16\"/></a></td><td valign=\"top\"><img height=\"2\" src=\"../images/ftv2blank.gif\" width=\"2\"/></td><td valign=\"middle\" width=\"100%\"><a href=\"../01/10008000000000000.html\" id=\"itemTextLink227\" onclick='javascript:clickOnFolder(\"227\")' target=\"_top\">南投縣</a></td></tr></tbody></table></div>,\n",
       " <div id=\"folder241\" style=\"display:block;\"><table border=\"0\" cellpadding=\"0\" cellspacing=\"0\" width=\"100%\"><tbody><tr><td background=\"../images/ftv2vertline.gif\" valign=\"top\"><img height=\"22\" src=\"../images/ftv2vertline.gif\" width=\"16\"/></td><td background=\"../images/ftv2vertline.gif\" valign=\"top\"><a href='javascript:clickOnNode(\"241\")'><img border=\"0\" height=\"22\" id=\"nodeIcon241\" name=\"nodeIcon241\" src=\"../images/ftv2pnode.gif\" width=\"16\"/></a></td><td valign=\"top\"><img height=\"2\" src=\"../images/ftv2blank.gif\" width=\"2\"/></td><td valign=\"middle\" width=\"100%\"><a href=\"../01/10009000000000000.html\" id=\"itemTextLink241\" onclick='javascript:clickOnFolder(\"241\")' target=\"_top\">雲林縣</a></td></tr></tbody></table></div>,\n",
       " <div id=\"folder262\" style=\"display:block;\"><table border=\"0\" cellpadding=\"0\" cellspacing=\"0\" width=\"100%\"><tbody><tr><td background=\"../images/ftv2vertline.gif\" valign=\"top\"><img height=\"22\" src=\"../images/ftv2vertline.gif\" width=\"16\"/></td><td background=\"../images/ftv2vertline.gif\" valign=\"top\"><a href='javascript:clickOnNode(\"262\")'><img border=\"0\" height=\"22\" id=\"nodeIcon262\" name=\"nodeIcon262\" src=\"../images/ftv2pnode.gif\" width=\"16\"/></a></td><td valign=\"top\"><img height=\"2\" src=\"../images/ftv2blank.gif\" width=\"2\"/></td><td valign=\"middle\" width=\"100%\"><a href=\"../01/10010000000000000.html\" id=\"itemTextLink262\" onclick='javascript:clickOnFolder(\"262\")' target=\"_top\">嘉義縣</a></td></tr></tbody></table></div>,\n",
       " <div id=\"folder281\" style=\"display:block;\"><table border=\"0\" cellpadding=\"0\" cellspacing=\"0\" width=\"100%\"><tbody><tr><td background=\"../images/ftv2vertline.gif\" valign=\"top\"><img height=\"22\" src=\"../images/ftv2vertline.gif\" width=\"16\"/></td><td background=\"../images/ftv2vertline.gif\" valign=\"top\"><a href='javascript:clickOnNode(\"281\")'><img border=\"0\" height=\"22\" id=\"nodeIcon281\" name=\"nodeIcon281\" src=\"../images/ftv2pnode.gif\" width=\"16\"/></a></td><td valign=\"top\"><img height=\"2\" src=\"../images/ftv2blank.gif\" width=\"2\"/></td><td valign=\"middle\" width=\"100%\"><a href=\"../01/10013000000000000.html\" id=\"itemTextLink281\" onclick='javascript:clickOnFolder(\"281\")' target=\"_top\">屏東縣</a></td></tr></tbody></table></div>,\n",
       " <div id=\"folder315\" style=\"display:block;\"><table border=\"0\" cellpadding=\"0\" cellspacing=\"0\" width=\"100%\"><tbody><tr><td background=\"../images/ftv2vertline.gif\" valign=\"top\"><img height=\"22\" src=\"../images/ftv2vertline.gif\" width=\"16\"/></td><td background=\"../images/ftv2vertline.gif\" valign=\"top\"><a href='javascript:clickOnNode(\"315\")'><img border=\"0\" height=\"22\" id=\"nodeIcon315\" name=\"nodeIcon315\" src=\"../images/ftv2pnode.gif\" width=\"16\"/></a></td><td valign=\"top\"><img height=\"2\" src=\"../images/ftv2blank.gif\" width=\"2\"/></td><td valign=\"middle\" width=\"100%\"><a href=\"../01/10002000000000000.html\" id=\"itemTextLink315\" onclick='javascript:clickOnFolder(\"315\")' target=\"_top\">宜蘭縣</a></td></tr></tbody></table></div>,\n",
       " <div id=\"folder328\" style=\"display:block;\"><table border=\"0\" cellpadding=\"0\" cellspacing=\"0\" width=\"100%\"><tbody><tr><td background=\"../images/ftv2vertline.gif\" valign=\"top\"><img height=\"22\" src=\"../images/ftv2vertline.gif\" width=\"16\"/></td><td background=\"../images/ftv2vertline.gif\" valign=\"top\"><a href='javascript:clickOnNode(\"328\")'><img border=\"0\" height=\"22\" id=\"nodeIcon328\" name=\"nodeIcon328\" src=\"../images/ftv2pnode.gif\" width=\"16\"/></a></td><td valign=\"top\"><img height=\"2\" src=\"../images/ftv2blank.gif\" width=\"2\"/></td><td valign=\"middle\" width=\"100%\"><a href=\"../01/10015000000000000.html\" id=\"itemTextLink328\" onclick='javascript:clickOnFolder(\"328\")' target=\"_top\">花蓮縣</a></td></tr></tbody></table></div>,\n",
       " <div id=\"folder342\" style=\"display:block;\"><table border=\"0\" cellpadding=\"0\" cellspacing=\"0\" width=\"100%\"><tbody><tr><td background=\"../images/ftv2vertline.gif\" valign=\"top\"><img height=\"22\" src=\"../images/ftv2vertline.gif\" width=\"16\"/></td><td background=\"../images/ftv2vertline.gif\" valign=\"top\"><a href='javascript:clickOnNode(\"342\")'><img border=\"0\" height=\"22\" id=\"nodeIcon342\" name=\"nodeIcon342\" src=\"../images/ftv2pnode.gif\" width=\"16\"/></a></td><td valign=\"top\"><img height=\"2\" src=\"../images/ftv2blank.gif\" width=\"2\"/></td><td valign=\"middle\" width=\"100%\"><a href=\"../01/10014000000000000.html\" id=\"itemTextLink342\" onclick='javascript:clickOnFolder(\"342\")' target=\"_top\">臺東縣</a></td></tr></tbody></table></div>,\n",
       " <div id=\"folder359\" style=\"display:block;\"><table border=\"0\" cellpadding=\"0\" cellspacing=\"0\" width=\"100%\"><tbody><tr><td background=\"../images/ftv2vertline.gif\" valign=\"top\"><img height=\"22\" src=\"../images/ftv2vertline.gif\" width=\"16\"/></td><td background=\"../images/ftv2vertline.gif\" valign=\"top\"><a href='javascript:clickOnNode(\"359\")'><img border=\"0\" height=\"22\" id=\"nodeIcon359\" name=\"nodeIcon359\" src=\"../images/ftv2pnode.gif\" width=\"16\"/></a></td><td valign=\"top\"><img height=\"2\" src=\"../images/ftv2blank.gif\" width=\"2\"/></td><td valign=\"middle\" width=\"100%\"><a href=\"../01/10016000000000000.html\" id=\"itemTextLink359\" onclick='javascript:clickOnFolder(\"359\")' target=\"_top\">澎湖縣</a></td></tr></tbody></table></div>,\n",
       " <div id=\"folder366\" style=\"display:block;\"><table border=\"0\" cellpadding=\"0\" cellspacing=\"0\" width=\"100%\"><tbody><tr><td background=\"../images/ftv2vertline.gif\" valign=\"top\"><img height=\"22\" src=\"../images/ftv2vertline.gif\" width=\"16\"/></td><td background=\"../images/ftv2vertline.gif\" valign=\"top\"><a href='javascript:clickOnNode(\"366\")'><img border=\"0\" height=\"22\" id=\"nodeIcon366\" name=\"nodeIcon366\" src=\"../images/ftv2pnode.gif\" width=\"16\"/></a></td><td valign=\"top\"><img height=\"2\" src=\"../images/ftv2blank.gif\" width=\"2\"/></td><td valign=\"middle\" width=\"100%\"><a href=\"../01/09020000000000000.html\" id=\"itemTextLink366\" onclick='javascript:clickOnFolder(\"366\")' target=\"_top\">金門縣</a></td></tr></tbody></table></div>,\n",
       " <div id=\"folder373\" style=\"display:block;\"><table border=\"0\" cellpadding=\"0\" cellspacing=\"0\" width=\"100%\"><tbody><tr><td background=\"../images/ftv2vertline.gif\" valign=\"top\"><img height=\"22\" src=\"../images/ftv2vertline.gif\" width=\"16\"/></td><td background=\"../images/ftv2vertline.gif\" valign=\"top\"><a href='javascript:clickOnNode(\"373\")'><img border=\"0\" height=\"22\" id=\"nodeIcon373\" name=\"nodeIcon373\" src=\"../images/ftv2pnode.gif\" width=\"16\"/></a></td><td valign=\"top\"><img height=\"2\" src=\"../images/ftv2blank.gif\" width=\"2\"/></td><td valign=\"middle\" width=\"100%\"><a href=\"../01/09007000000000000.html\" id=\"itemTextLink373\" onclick='javascript:clickOnFolder(\"373\")' target=\"_top\">連江縣</a></td></tr></tbody></table></div>,\n",
       " <div id=\"folder378\" style=\"display:block;\"><table border=\"0\" cellpadding=\"0\" cellspacing=\"0\" width=\"100%\"><tbody><tr><td background=\"../images/ftv2vertline.gif\" valign=\"top\"><img height=\"22\" src=\"../images/ftv2vertline.gif\" width=\"16\"/></td><td background=\"../images/ftv2vertline.gif\" valign=\"top\"><a href='javascript:clickOnNode(\"378\")'><img border=\"0\" height=\"22\" id=\"nodeIcon378\" name=\"nodeIcon378\" src=\"../images/ftv2pnode.gif\" width=\"16\"/></a></td><td valign=\"top\"><img height=\"2\" src=\"../images/ftv2blank.gif\" width=\"2\"/></td><td valign=\"middle\" width=\"100%\"><a href=\"../01/10017000000000000.html\" id=\"itemTextLink378\" onclick='javascript:clickOnFolder(\"378\")' target=\"_top\">基隆市</a></td></tr></tbody></table></div>,\n",
       " <div id=\"folder386\" style=\"display:block;\"><table border=\"0\" cellpadding=\"0\" cellspacing=\"0\" width=\"100%\"><tbody><tr><td background=\"../images/ftv2vertline.gif\" valign=\"top\"><img height=\"22\" src=\"../images/ftv2vertline.gif\" width=\"16\"/></td><td background=\"../images/ftv2vertline.gif\" valign=\"top\"><a href='javascript:clickOnNode(\"386\")'><img border=\"0\" height=\"22\" id=\"nodeIcon386\" name=\"nodeIcon386\" src=\"../images/ftv2pnode.gif\" width=\"16\"/></a></td><td valign=\"top\"><img height=\"2\" src=\"../images/ftv2blank.gif\" width=\"2\"/></td><td valign=\"middle\" width=\"100%\"><a href=\"../01/10018000000000000.html\" id=\"itemTextLink386\" onclick='javascript:clickOnFolder(\"386\")' target=\"_top\">新竹市</a></td></tr></tbody></table></div>,\n",
       " <div id=\"folder390\" style=\"display:block;\"><table border=\"0\" cellpadding=\"0\" cellspacing=\"0\" width=\"100%\"><tbody><tr><td background=\"../images/ftv2vertline.gif\" valign=\"top\"><img height=\"22\" src=\"../images/ftv2vertline.gif\" width=\"16\"/></td><td valign=\"top\"><a href='javascript:clickOnNode(\"390\")'><img border=\"0\" height=\"22\" id=\"nodeIcon390\" name=\"nodeIcon390\" src=\"../images/ftv2plastnode.gif\" width=\"16\"/></a></td><td valign=\"top\"><img height=\"2\" src=\"../images/ftv2blank.gif\" width=\"2\"/></td><td valign=\"middle\" width=\"100%\"><a href=\"../01/10020000000000000.html\" id=\"itemTextLink390\" onclick='javascript:clickOnFolder(\"390\")' target=\"_top\">嘉義市</a></td></tr></tbody></table></div>,\n",
       " <div id=\"folder393\" style=\"display: block;\"><table border=\"0\" cellpadding=\"0\" cellspacing=\"0\" width=\"100%\"><tbody><tr><td background=\"../images/ftv2vertline.gif\" valign=\"top\"><a href='javascript:clickOnNode(\"393\")'><img border=\"0\" height=\"22\" id=\"nodeIcon393\" name=\"nodeIcon393\" src=\"../images/ftv2pnode.gif\" width=\"16\"/></a></td><td valign=\"top\"><img height=\"2\" src=\"../images/ftv2blank.gif\" width=\"2\"/></td><td valign=\"middle\" width=\"100%\"><a href=\"../02/00000000000000000.html\" id=\"itemTextLink393\" onclick='javascript:clickOnFolder(\"393\")' target=\"_top\">第18案</a></td></tr></tbody></table></div>,\n",
       " <div id=\"folder784\" style=\"display: block;\"><table border=\"0\" cellpadding=\"0\" cellspacing=\"0\" width=\"100%\"><tbody><tr><td background=\"../images/ftv2vertline.gif\" valign=\"top\"><a href='javascript:clickOnNode(\"784\")'><img border=\"0\" height=\"22\" id=\"nodeIcon784\" name=\"nodeIcon784\" src=\"../images/ftv2pnode.gif\" width=\"16\"/></a></td><td valign=\"top\"><img height=\"2\" src=\"../images/ftv2blank.gif\" width=\"2\"/></td><td valign=\"middle\" width=\"100%\"><a href=\"../03/00000000000000000.html\" id=\"itemTextLink784\" onclick='javascript:clickOnFolder(\"784\")' target=\"_top\">第19案</a></td></tr></tbody></table></div>,\n",
       " <div id=\"folder1175\" style=\"display: block;\"><table border=\"0\" cellpadding=\"0\" cellspacing=\"0\" width=\"100%\"><tbody><tr><td background=\"../images/ftv2vertline.gif\" valign=\"top\"><a href='javascript:clickOnNode(\"1175\")'><img border=\"0\" height=\"22\" id=\"nodeIcon1175\" name=\"nodeIcon1175\" src=\"../images/ftv2pnode.gif\" width=\"16\"/></a></td><td valign=\"top\"><img height=\"2\" src=\"../images/ftv2blank.gif\" width=\"2\"/></td><td valign=\"middle\" width=\"100%\"><a href=\"../04/00000000000000000.html\" id=\"itemTextLink1175\" onclick='javascript:clickOnFolder(\"1175\")' target=\"_top\">第20案</a></td></tr></tbody></table></div>,\n",
       " <div id=\"item1566\" style=\"display: block;\"><table border=\"0\" cellpadding=\"0\" cellspacing=\"0\" width=\"100%\"><tbody><tr><td background=\"../images/ftv2vertline.gif\" valign=\"top\"><img height=\"22\" src=\"../images/ftv2node.gif\" width=\"16\"/></td><td valign=\"top\"><img height=\"2\" src=\"../images/ftv2blank.gif\" width=\"3\"/></td><td valign=\"middle\" width=\"100%\"><a href=\"https://referendums.2021.nat.gov.tw/?themeId=79b8adc5242fb9232566f29a3114eddd&amp;voteType=REF&amp;caseType=N&amp;dataLevel=N\" id=\"itemTextLink1566\" onclick=\"clickOnLink('1566', 'https://referendums.2021.nat.gov.tw/?themeId=79b8adc5242fb9232566f29a3114eddd&amp;voteType=REF&amp;caseType=N&amp;dataLevel=N','_blank');return false;\" target=\"_blank\">視覺化統計報表</a></td></tr></tbody></table></div>,\n",
       " <div id=\"folder1567\" style=\"display: block;\"><table border=\"0\" cellpadding=\"0\" cellspacing=\"0\" width=\"100%\"><tbody><tr><td background=\"../images/ftv2vertline.gif\" valign=\"top\"><a href='javascript:clickOnNode(\"1567\")'><img border=\"0\" height=\"22\" id=\"nodeIcon1567\" name=\"nodeIcon1567\" src=\"../images/ftv2node.gif\" width=\"16\"/></a></td><td valign=\"top\"><img height=\"2\" src=\"../images/ftv2blank.gif\" width=\"2\"/></td><td valign=\"middle\" width=\"100%\"><a href=\"../09/10018000000000000.html\" id=\"itemTextLink1567\" onclick='javascript:clickOnFolder(\"1567\")' target=\"_top\">地方性公投案結果</a></td></tr></tbody></table></div>,\n",
       " <div id=\"folder1568\" style=\"display: block;\"><table border=\"0\" cellpadding=\"0\" cellspacing=\"0\" width=\"100%\"><tbody><tr><td valign=\"top\"><a href='javascript:clickOnNode(\"1568\")'><img border=\"0\" height=\"22\" id=\"nodeIcon1568\" name=\"nodeIcon1568\" src=\"../images/ftv2plastnode.gif\" width=\"16\"/></a></td><td valign=\"top\"><img height=\"2\" src=\"../images/ftv2blank.gif\" width=\"2\"/></td><td valign=\"middle\" width=\"100%\"><a href=\"../09/10018000000000000.html\" id=\"itemTextLink1568\" onclick='javascript:clickOnFolder(\"1568\")' target=\"_top\">新竹市第1案</a></td></tr></tbody></table></div>]"
      ]
     },
     "execution_count": 151,
     "metadata": {},
     "output_type": "execute_result"
    }
   ],
   "source": [
    "html.select('div[id=\"domRoot\"] div[id]')"
   ]
  },
  {
   "cell_type": "code",
   "execution_count": 149,
   "metadata": {},
   "outputs": [],
   "source": [
    "number = []\n",
    "for i in html.select('div[id=\"domRoot\"] div[id]'):\n",
    "    number.append(i.attrs[\"id\"])\n",
    "    "
   ]
  },
  {
   "cell_type": "markdown",
   "metadata": {},
   "source": [
    "### 取出各縣市網頁起始值"
   ]
  },
  {
   "cell_type": "code",
   "execution_count": 163,
   "metadata": {},
   "outputs": [
    {
     "data": {
      "text/plain": [
       "['folder3',\n",
       " 'folder16',\n",
       " 'folder46',\n",
       " 'folder60',\n",
       " 'folder90',\n",
       " 'folder128',\n",
       " 'folder167',\n",
       " 'folder181',\n",
       " 'folder200',\n",
       " 'folder227',\n",
       " 'folder241',\n",
       " 'folder262',\n",
       " 'folder281',\n",
       " 'folder315',\n",
       " 'folder328',\n",
       " 'folder342',\n",
       " 'folder359',\n",
       " 'folder366',\n",
       " 'folder373',\n",
       " 'folder378',\n",
       " 'folder386',\n",
       " 'folder390']"
      ]
     },
     "execution_count": 163,
     "metadata": {},
     "output_type": "execute_result"
    }
   ],
   "source": [
    "number[3:25]"
   ]
  },
  {
   "cell_type": "code",
   "execution_count": 173,
   "metadata": {},
   "outputs": [
    {
     "name": "stdout",
     "output_type": "stream",
     "text": [
      "縣市數量:22\n"
     ]
    },
    {
     "data": {
      "text/plain": [
       "[3,\n",
       " 16,\n",
       " 46,\n",
       " 60,\n",
       " 90,\n",
       " 128,\n",
       " 167,\n",
       " 181,\n",
       " 200,\n",
       " 227,\n",
       " 241,\n",
       " 262,\n",
       " 281,\n",
       " 315,\n",
       " 328,\n",
       " 342,\n",
       " 359,\n",
       " 366,\n",
       " 373,\n",
       " 378,\n",
       " 386,\n",
       " 390]"
      ]
     },
     "execution_count": 173,
     "metadata": {},
     "output_type": "execute_result"
    }
   ],
   "source": [
    "pattern = re.compile(r'(?<=folder)\\d+')\n",
    "\n",
    "num = [int(pattern.findall(i)[0]) for i in number[3:25]]\n",
    "print(\"縣市數量:{}\".format(len(num)))\n",
    "num \n"
   ]
  },
  {
   "cell_type": "code",
   "execution_count": 186,
   "metadata": {},
   "outputs": [],
   "source": [
    "numbers=[]\n",
    "\n",
    "for j in range(len(num)-1): # 最後一個嘉義市另外看\n",
    "    numbers.append([num[j]+i+1 for i in range(num[j+1]-num[j]-1)]) "
   ]
  },
  {
   "cell_type": "code",
   "execution_count": 187,
   "metadata": {},
   "outputs": [],
   "source": [
    "numbers.append([391,392]) # 嘉義"
   ]
  },
  {
   "cell_type": "code",
   "execution_count": 188,
   "metadata": {},
   "outputs": [
    {
     "data": {
      "text/plain": [
       "array([list([4, 5, 6, 7, 8, 9, 10, 11, 12, 13, 14, 15]),\n",
       "       list([17, 18, 19, 20, 21, 22, 23, 24, 25, 26, 27, 28, 29, 30, 31, 32, 33, 34, 35, 36, 37, 38, 39, 40, 41, 42, 43, 44, 45]),\n",
       "       list([47, 48, 49, 50, 51, 52, 53, 54, 55, 56, 57, 58, 59]),\n",
       "       list([61, 62, 63, 64, 65, 66, 67, 68, 69, 70, 71, 72, 73, 74, 75, 76, 77, 78, 79, 80, 81, 82, 83, 84, 85, 86, 87, 88, 89]),\n",
       "       list([91, 92, 93, 94, 95, 96, 97, 98, 99, 100, 101, 102, 103, 104, 105, 106, 107, 108, 109, 110, 111, 112, 113, 114, 115, 116, 117, 118, 119, 120, 121, 122, 123, 124, 125, 126, 127]),\n",
       "       list([129, 130, 131, 132, 133, 134, 135, 136, 137, 138, 139, 140, 141, 142, 143, 144, 145, 146, 147, 148, 149, 150, 151, 152, 153, 154, 155, 156, 157, 158, 159, 160, 161, 162, 163, 164, 165, 166]),\n",
       "       list([168, 169, 170, 171, 172, 173, 174, 175, 176, 177, 178, 179, 180]),\n",
       "       list([182, 183, 184, 185, 186, 187, 188, 189, 190, 191, 192, 193, 194, 195, 196, 197, 198, 199]),\n",
       "       list([201, 202, 203, 204, 205, 206, 207, 208, 209, 210, 211, 212, 213, 214, 215, 216, 217, 218, 219, 220, 221, 222, 223, 224, 225, 226]),\n",
       "       list([228, 229, 230, 231, 232, 233, 234, 235, 236, 237, 238, 239, 240]),\n",
       "       list([242, 243, 244, 245, 246, 247, 248, 249, 250, 251, 252, 253, 254, 255, 256, 257, 258, 259, 260, 261]),\n",
       "       list([263, 264, 265, 266, 267, 268, 269, 270, 271, 272, 273, 274, 275, 276, 277, 278, 279, 280]),\n",
       "       list([282, 283, 284, 285, 286, 287, 288, 289, 290, 291, 292, 293, 294, 295, 296, 297, 298, 299, 300, 301, 302, 303, 304, 305, 306, 307, 308, 309, 310, 311, 312, 313, 314]),\n",
       "       list([316, 317, 318, 319, 320, 321, 322, 323, 324, 325, 326, 327]),\n",
       "       list([329, 330, 331, 332, 333, 334, 335, 336, 337, 338, 339, 340, 341]),\n",
       "       list([343, 344, 345, 346, 347, 348, 349, 350, 351, 352, 353, 354, 355, 356, 357, 358]),\n",
       "       list([360, 361, 362, 363, 364, 365]),\n",
       "       list([367, 368, 369, 370, 371, 372]), list([374, 375, 376, 377]),\n",
       "       list([379, 380, 381, 382, 383, 384, 385]), list([387, 388, 389]),\n",
       "       list([391, 392])], dtype=object)"
      ]
     },
     "execution_count": 188,
     "metadata": {},
     "output_type": "execute_result"
    }
   ],
   "source": [
    "np.array(numbers)"
   ]
  },
  {
   "cell_type": "markdown",
   "metadata": {},
   "source": [
    "# 開始抓取資料"
   ]
  },
  {
   "cell_type": "code",
   "execution_count": 229,
   "metadata": {},
   "outputs": [
    {
     "name": "stderr",
     "output_type": "stream",
     "text": [
      "<ipython-input-229-ba3f382862d7>:1: DeprecationWarning: executable_path has been deprecated, please pass in a Service object\n",
      "  driver = webdriver.Chrome(path)\n"
     ]
    }
   ],
   "source": [
    "driver = webdriver.Chrome(path) "
   ]
  },
  {
   "cell_type": "code",
   "execution_count": 230,
   "metadata": {},
   "outputs": [],
   "source": [
    "def vote_data(city,adms):\n",
    "\n",
    "    driver.get(\"https://referendum.2021.nat.gov.tw/pc/zh_TW/IDX/indexFF.html\")\n",
    "\n",
    "    driver.find_element_by_name(\"nodeIcon2\").click()\n",
    "    driver.find_element_by_name(\"nodeIcon{}\".format(city)).click()\n",
    "    driver.find_element_by_id(\"itemTextLink{}\".format(adms)).click()\n",
    "\n",
    "    html = BeautifulSoup(driver.page_source, 'html.parser')\n",
    "\n",
    "\n",
    "    pattern = re.compile(r'(?<=\\xa0-\\xa0)\\w+')\n",
    "    Adm = pattern.findall(html.select('td[valign=\"bottom\"]')[0].text)[0]\n",
    "\n",
    "    pattern = re.compile(r'(?<=\\xa0)\\d+')\n",
    "    vote = int(pattern.findall(html.select('td[align=\"right\"]')[0].text)[0])\n",
    "\n",
    "    df = [i.text for i in html.select('tr.trT td')]\n",
    "\n",
    "    df.insert(0,Adm)\n",
    "    df.append(vote)\n",
    "\n",
    "    return df\n"
   ]
  },
  {
   "cell_type": "code",
   "execution_count": 258,
   "metadata": {},
   "outputs": [
    {
     "name": "stdout",
     "output_type": "stream",
     "text": [
      "[3, 4]\n",
      "[3, 5]\n",
      "[3, 6]\n",
      "[3, 7]\n",
      "[3, 8]\n",
      "[3, 9]\n",
      "[3, 10]\n",
      "[3, 11]\n",
      "[3, 12]\n",
      "[3, 13]\n",
      "[3, 14]\n",
      "[3, 15]\n",
      "[16, 17]\n",
      "[16, 18]\n",
      "[16, 19]\n",
      "[16, 20]\n",
      "[16, 21]\n",
      "[16, 22]\n",
      "[16, 23]\n",
      "[16, 24]\n",
      "[16, 25]\n",
      "[16, 26]\n",
      "[16, 27]\n",
      "[16, 28]\n",
      "[16, 29]\n",
      "[16, 30]\n",
      "[16, 31]\n",
      "[16, 32]\n",
      "[16, 33]\n",
      "[16, 34]\n",
      "[16, 35]\n",
      "[16, 36]\n",
      "[16, 37]\n",
      "[16, 38]\n",
      "[16, 39]\n",
      "[16, 40]\n",
      "[16, 41]\n",
      "[16, 42]\n",
      "[16, 43]\n",
      "[16, 44]\n",
      "[16, 45]\n",
      "[46, 47]\n",
      "[46, 48]\n",
      "[46, 49]\n",
      "[46, 50]\n",
      "[46, 51]\n",
      "[46, 52]\n",
      "[46, 53]\n",
      "[46, 54]\n",
      "[46, 55]\n",
      "[46, 56]\n",
      "[46, 57]\n",
      "[46, 58]\n",
      "[46, 59]\n",
      "[60, 61]\n",
      "[60, 62]\n",
      "[60, 63]\n",
      "[60, 64]\n",
      "[60, 65]\n",
      "[60, 66]\n",
      "[60, 67]\n",
      "[60, 68]\n",
      "[60, 69]\n",
      "[60, 70]\n",
      "[60, 71]\n",
      "[60, 72]\n",
      "[60, 73]\n",
      "[60, 74]\n",
      "[60, 75]\n",
      "[60, 76]\n",
      "[60, 77]\n",
      "[60, 78]\n",
      "[60, 79]\n",
      "[60, 80]\n",
      "[60, 81]\n",
      "[60, 82]\n",
      "[60, 83]\n",
      "[60, 84]\n",
      "[60, 85]\n",
      "[60, 86]\n",
      "[60, 87]\n",
      "[60, 88]\n",
      "[60, 89]\n",
      "[90, 91]\n",
      "[90, 92]\n",
      "[90, 93]\n",
      "[90, 94]\n",
      "[90, 95]\n",
      "[90, 96]\n",
      "[90, 97]\n",
      "[90, 98]\n",
      "[90, 99]\n",
      "[90, 100]\n",
      "[90, 101]\n",
      "[90, 102]\n",
      "[90, 103]\n",
      "[90, 104]\n",
      "[90, 105]\n",
      "[90, 106]\n",
      "[90, 107]\n",
      "[90, 108]\n",
      "[90, 109]\n",
      "[90, 110]\n",
      "[90, 111]\n",
      "[90, 112]\n",
      "[90, 113]\n",
      "[90, 114]\n",
      "[90, 115]\n",
      "[90, 116]\n",
      "[90, 117]\n",
      "[90, 118]\n",
      "[90, 119]\n",
      "[90, 120]\n",
      "[90, 121]\n",
      "[90, 122]\n",
      "[90, 123]\n",
      "[90, 124]\n",
      "[90, 125]\n",
      "[90, 126]\n",
      "[90, 127]\n",
      "[128, 129]\n",
      "[128, 130]\n",
      "[128, 131]\n",
      "[128, 132]\n",
      "[128, 133]\n",
      "[128, 134]\n",
      "[128, 135]\n",
      "[128, 136]\n",
      "[128, 137]\n",
      "[128, 138]\n",
      "[128, 139]\n",
      "[128, 140]\n",
      "[128, 141]\n",
      "[128, 142]\n",
      "[128, 143]\n",
      "[128, 144]\n",
      "[128, 145]\n",
      "[128, 146]\n",
      "[128, 147]\n",
      "[128, 148]\n",
      "[128, 149]\n",
      "[128, 150]\n",
      "[128, 151]\n",
      "[128, 152]\n",
      "[128, 153]\n",
      "[128, 154]\n",
      "[128, 155]\n",
      "[128, 156]\n",
      "[128, 157]\n",
      "[128, 158]\n",
      "[128, 159]\n",
      "[128, 160]\n",
      "[128, 161]\n",
      "[128, 162]\n",
      "[128, 163]\n",
      "[128, 164]\n",
      "[128, 165]\n",
      "[128, 166]\n",
      "[167, 168]\n",
      "[167, 169]\n",
      "[167, 170]\n",
      "[167, 171]\n",
      "[167, 172]\n",
      "[167, 173]\n",
      "[167, 174]\n",
      "[167, 175]\n",
      "[167, 176]\n",
      "[167, 177]\n",
      "[167, 178]\n",
      "[167, 179]\n",
      "[167, 180]\n",
      "[181, 182]\n",
      "[181, 183]\n",
      "[181, 184]\n",
      "[181, 185]\n",
      "[181, 186]\n",
      "[181, 187]\n",
      "[181, 188]\n",
      "[181, 189]\n",
      "[181, 190]\n",
      "[181, 191]\n",
      "[181, 192]\n",
      "[181, 193]\n",
      "[181, 194]\n",
      "[181, 195]\n",
      "[181, 196]\n",
      "[181, 197]\n",
      "[181, 198]\n",
      "[181, 199]\n",
      "[200, 201]\n",
      "[200, 202]\n",
      "[200, 203]\n",
      "[200, 204]\n",
      "[200, 205]\n",
      "[200, 206]\n",
      "[200, 207]\n",
      "[200, 208]\n",
      "[200, 209]\n",
      "[200, 210]\n",
      "[200, 211]\n",
      "[200, 212]\n",
      "[200, 213]\n",
      "[200, 214]\n",
      "[200, 215]\n",
      "[200, 216]\n",
      "[200, 217]\n",
      "[200, 218]\n",
      "[200, 219]\n",
      "[200, 220]\n",
      "[200, 221]\n",
      "[200, 222]\n",
      "[200, 223]\n",
      "[200, 224]\n",
      "[200, 225]\n",
      "[200, 226]\n",
      "[227, 228]\n",
      "[227, 229]\n",
      "[227, 230]\n",
      "[227, 231]\n",
      "[227, 232]\n",
      "[227, 233]\n",
      "[227, 234]\n",
      "[227, 235]\n",
      "[227, 236]\n",
      "[227, 237]\n",
      "[227, 238]\n",
      "[227, 239]\n",
      "[227, 240]\n",
      "[241, 242]\n",
      "[241, 243]\n",
      "[241, 244]\n",
      "[241, 245]\n",
      "[241, 246]\n",
      "[241, 247]\n",
      "[241, 248]\n",
      "[241, 249]\n",
      "[241, 250]\n",
      "[241, 251]\n",
      "[241, 252]\n",
      "[241, 253]\n",
      "[241, 254]\n",
      "[241, 255]\n",
      "[241, 256]\n",
      "[241, 257]\n",
      "[241, 258]\n",
      "[241, 259]\n",
      "[241, 260]\n",
      "[241, 261]\n",
      "[262, 263]\n",
      "[262, 264]\n",
      "[262, 265]\n",
      "[262, 266]\n",
      "[262, 267]\n",
      "[262, 268]\n",
      "[262, 269]\n",
      "[262, 270]\n",
      "[262, 271]\n",
      "[262, 272]\n",
      "[262, 273]\n",
      "[262, 274]\n",
      "[262, 275]\n",
      "[262, 276]\n",
      "[262, 277]\n",
      "[262, 278]\n",
      "[262, 279]\n",
      "[262, 280]\n",
      "[281, 282]\n",
      "[281, 283]\n",
      "[281, 284]\n",
      "[281, 285]\n",
      "[281, 286]\n",
      "[281, 287]\n",
      "[281, 288]\n",
      "[281, 289]\n",
      "[281, 290]\n",
      "[281, 291]\n",
      "[281, 292]\n",
      "[281, 293]\n",
      "[281, 294]\n",
      "[281, 295]\n",
      "[281, 296]\n",
      "[281, 297]\n",
      "[281, 298]\n",
      "[281, 299]\n",
      "[281, 300]\n",
      "[281, 301]\n",
      "[281, 302]\n",
      "[281, 303]\n",
      "[281, 304]\n",
      "[281, 305]\n",
      "[281, 306]\n",
      "[281, 307]\n",
      "[281, 308]\n",
      "[281, 309]\n",
      "[281, 310]\n",
      "[281, 311]\n",
      "[281, 312]\n",
      "[281, 313]\n",
      "[281, 314]\n",
      "[315, 316]\n",
      "[315, 317]\n",
      "[315, 318]\n",
      "[315, 319]\n",
      "[315, 320]\n",
      "[315, 321]\n",
      "[315, 322]\n",
      "[315, 323]\n",
      "[315, 324]\n",
      "[315, 325]\n",
      "[315, 326]\n",
      "[315, 327]\n",
      "[328, 329]\n",
      "[328, 330]\n",
      "[328, 331]\n",
      "[328, 332]\n",
      "[328, 333]\n",
      "[328, 334]\n",
      "[328, 335]\n",
      "[328, 336]\n",
      "[328, 337]\n",
      "[328, 338]\n",
      "[328, 339]\n",
      "[328, 340]\n",
      "[328, 341]\n",
      "[342, 343]\n",
      "[342, 344]\n",
      "[342, 345]\n",
      "[342, 346]\n",
      "[342, 347]\n",
      "[342, 348]\n",
      "[342, 349]\n",
      "[342, 350]\n",
      "[342, 351]\n",
      "[342, 352]\n",
      "[342, 353]\n",
      "[342, 354]\n",
      "[342, 355]\n",
      "[342, 356]\n",
      "[342, 357]\n",
      "[342, 358]\n",
      "[359, 360]\n",
      "[359, 361]\n",
      "[359, 362]\n",
      "[359, 363]\n",
      "[359, 364]\n",
      "[359, 365]\n",
      "[366, 367]\n",
      "[366, 368]\n",
      "[366, 369]\n",
      "[366, 370]\n",
      "[366, 371]\n",
      "[366, 372]\n",
      "[373, 374]\n",
      "[373, 375]\n",
      "[373, 376]\n",
      "[373, 377]\n",
      "[378, 379]\n",
      "[378, 380]\n",
      "[378, 381]\n",
      "[378, 382]\n",
      "[378, 383]\n",
      "[378, 384]\n",
      "[378, 385]\n",
      "[386, 387]\n",
      "[386, 388]\n",
      "[386, 389]\n",
      "[390, 391]\n",
      "[390, 392]\n"
     ]
    }
   ],
   "source": [
    "k=-1\n",
    "for i in num:\n",
    "    k+=1\n",
    "    for j in numbers[k]:\n",
    "        print([i,j])"
   ]
  },
  {
   "cell_type": "code",
   "execution_count": 259,
   "metadata": {},
   "outputs": [
    {
     "name": "stderr",
     "output_type": "stream",
     "text": [
      "<ipython-input-230-ddc14a75dec9>:5: DeprecationWarning: find_element_by_* commands are deprecated. Please use find_element() instead\n",
      "  driver.find_element_by_name(\"nodeIcon2\").click()\n",
      "<ipython-input-230-ddc14a75dec9>:6: DeprecationWarning: find_element_by_* commands are deprecated. Please use find_element() instead\n",
      "  driver.find_element_by_name(\"nodeIcon{}\".format(city)).click()\n",
      "<ipython-input-230-ddc14a75dec9>:7: DeprecationWarning: find_element_by_* commands are deprecated. Please use find_element() instead\n",
      "  driver.find_element_by_id(\"itemTextLink{}\".format(adms)).click()\n"
     ]
    }
   ],
   "source": [
    "Final_data=[]\n",
    "\n",
    "k=-1\n",
    "for i in num:\n",
    "    k+=1\n",
    "    for j in numbers[k]:\n",
    "        Final_data.append(vote_data(i,j))"
   ]
  },
  {
   "cell_type": "code",
   "execution_count": 264,
   "metadata": {},
   "outputs": [],
   "source": [
    "final_data = pd.DataFrame(Final_data)\n",
    "final_data.columns=[\"縣市行政區\",\"同意票數\",\"不同意票數\",\"有效票數\",\"無效票數\",\"投票數\",\"投票權人數\",\"已完成投票所投票率(%)\",\"有效同意票數對投票權人數(%)\",\"已完成投票所\"]"
   ]
  },
  {
   "cell_type": "code",
   "execution_count": 265,
   "metadata": {},
   "outputs": [
    {
     "data": {
      "text/html": [
       "<div>\n",
       "<style scoped>\n",
       "    .dataframe tbody tr th:only-of-type {\n",
       "        vertical-align: middle;\n",
       "    }\n",
       "\n",
       "    .dataframe tbody tr th {\n",
       "        vertical-align: top;\n",
       "    }\n",
       "\n",
       "    .dataframe thead th {\n",
       "        text-align: right;\n",
       "    }\n",
       "</style>\n",
       "<table border=\"1\" class=\"dataframe\">\n",
       "  <thead>\n",
       "    <tr style=\"text-align: right;\">\n",
       "      <th></th>\n",
       "      <th>縣市行政區</th>\n",
       "      <th>同意票數</th>\n",
       "      <th>不同意票數</th>\n",
       "      <th>有效票數</th>\n",
       "      <th>無效票數</th>\n",
       "      <th>投票數</th>\n",
       "      <th>投票權人數</th>\n",
       "      <th>已完成投票所投票率(%)</th>\n",
       "      <th>有效同意票數對投票權人數(%)</th>\n",
       "      <th>已完成投票所</th>\n",
       "    </tr>\n",
       "  </thead>\n",
       "  <tbody>\n",
       "    <tr>\n",
       "      <th>0</th>\n",
       "      <td>臺北市松山區</td>\n",
       "      <td>42,583</td>\n",
       "      <td>37,246</td>\n",
       "      <td>79,829</td>\n",
       "      <td>743</td>\n",
       "      <td>80,572</td>\n",
       "      <td>162,964</td>\n",
       "      <td>49.44%</td>\n",
       "      <td>26.13%</td>\n",
       "      <td>134</td>\n",
       "    </tr>\n",
       "    <tr>\n",
       "      <th>1</th>\n",
       "      <td>臺北市信義區</td>\n",
       "      <td>45,522</td>\n",
       "      <td>38,628</td>\n",
       "      <td>84,150</td>\n",
       "      <td>843</td>\n",
       "      <td>84,993</td>\n",
       "      <td>181,747</td>\n",
       "      <td>46.76%</td>\n",
       "      <td>25.05%</td>\n",
       "      <td>166</td>\n",
       "    </tr>\n",
       "    <tr>\n",
       "      <th>2</th>\n",
       "      <td>臺北市大安區</td>\n",
       "      <td>64,621</td>\n",
       "      <td>52,374</td>\n",
       "      <td>116,995</td>\n",
       "      <td>1,132</td>\n",
       "      <td>118,127</td>\n",
       "      <td>242,869</td>\n",
       "      <td>48.64%</td>\n",
       "      <td>26.61%</td>\n",
       "      <td>194</td>\n",
       "    </tr>\n",
       "    <tr>\n",
       "      <th>3</th>\n",
       "      <td>臺北市中山區</td>\n",
       "      <td>41,082</td>\n",
       "      <td>45,181</td>\n",
       "      <td>86,263</td>\n",
       "      <td>794</td>\n",
       "      <td>87,057</td>\n",
       "      <td>188,193</td>\n",
       "      <td>46.26%</td>\n",
       "      <td>21.83%</td>\n",
       "      <td>144</td>\n",
       "    </tr>\n",
       "    <tr>\n",
       "      <th>4</th>\n",
       "      <td>臺北市中正區</td>\n",
       "      <td>31,561</td>\n",
       "      <td>27,558</td>\n",
       "      <td>59,119</td>\n",
       "      <td>584</td>\n",
       "      <td>59,703</td>\n",
       "      <td>123,767</td>\n",
       "      <td>48.24%</td>\n",
       "      <td>25.5%</td>\n",
       "      <td>115</td>\n",
       "    </tr>\n",
       "    <tr>\n",
       "      <th>...</th>\n",
       "      <td>...</td>\n",
       "      <td>...</td>\n",
       "      <td>...</td>\n",
       "      <td>...</td>\n",
       "      <td>...</td>\n",
       "      <td>...</td>\n",
       "      <td>...</td>\n",
       "      <td>...</td>\n",
       "      <td>...</td>\n",
       "      <td>...</td>\n",
       "    </tr>\n",
       "    <tr>\n",
       "      <th>363</th>\n",
       "      <td>新竹市東區</td>\n",
       "      <td>42,096</td>\n",
       "      <td>34,243</td>\n",
       "      <td>76,339</td>\n",
       "      <td>891</td>\n",
       "      <td>77,230</td>\n",
       "      <td>169,450</td>\n",
       "      <td>45.58%</td>\n",
       "      <td>24.84%</td>\n",
       "      <td>160</td>\n",
       "    </tr>\n",
       "    <tr>\n",
       "      <th>364</th>\n",
       "      <td>新竹市北區</td>\n",
       "      <td>27,138</td>\n",
       "      <td>25,882</td>\n",
       "      <td>53,020</td>\n",
       "      <td>657</td>\n",
       "      <td>53,677</td>\n",
       "      <td>125,506</td>\n",
       "      <td>42.77%</td>\n",
       "      <td>21.62%</td>\n",
       "      <td>122</td>\n",
       "    </tr>\n",
       "    <tr>\n",
       "      <th>365</th>\n",
       "      <td>新竹市香山區</td>\n",
       "      <td>12,213</td>\n",
       "      <td>13,399</td>\n",
       "      <td>25,612</td>\n",
       "      <td>353</td>\n",
       "      <td>25,965</td>\n",
       "      <td>66,397</td>\n",
       "      <td>39.11%</td>\n",
       "      <td>18.39%</td>\n",
       "      <td>64</td>\n",
       "    </tr>\n",
       "    <tr>\n",
       "      <th>366</th>\n",
       "      <td>嘉義市東區</td>\n",
       "      <td>19,300</td>\n",
       "      <td>23,106</td>\n",
       "      <td>42,406</td>\n",
       "      <td>311</td>\n",
       "      <td>42,717</td>\n",
       "      <td>100,157</td>\n",
       "      <td>42.65%</td>\n",
       "      <td>19.27%</td>\n",
       "      <td>89</td>\n",
       "    </tr>\n",
       "    <tr>\n",
       "      <th>367</th>\n",
       "      <td>嘉義市西區</td>\n",
       "      <td>20,601</td>\n",
       "      <td>29,202</td>\n",
       "      <td>49,803</td>\n",
       "      <td>413</td>\n",
       "      <td>50,216</td>\n",
       "      <td>120,881</td>\n",
       "      <td>41.54%</td>\n",
       "      <td>17.04%</td>\n",
       "      <td>100</td>\n",
       "    </tr>\n",
       "  </tbody>\n",
       "</table>\n",
       "<p>368 rows × 10 columns</p>\n",
       "</div>"
      ],
      "text/plain": [
       "      縣市行政區    同意票數   不同意票數     有效票數   無效票數      投票數    投票權人數 已完成投票所投票率(%)  \\\n",
       "0    臺北市松山區  42,583  37,246   79,829    743   80,572  162,964       49.44%   \n",
       "1    臺北市信義區  45,522  38,628   84,150    843   84,993  181,747       46.76%   \n",
       "2    臺北市大安區  64,621  52,374  116,995  1,132  118,127  242,869       48.64%   \n",
       "3    臺北市中山區  41,082  45,181   86,263    794   87,057  188,193       46.26%   \n",
       "4    臺北市中正區  31,561  27,558   59,119    584   59,703  123,767       48.24%   \n",
       "..      ...     ...     ...      ...    ...      ...      ...          ...   \n",
       "363   新竹市東區  42,096  34,243   76,339    891   77,230  169,450       45.58%   \n",
       "364   新竹市北區  27,138  25,882   53,020    657   53,677  125,506       42.77%   \n",
       "365  新竹市香山區  12,213  13,399   25,612    353   25,965   66,397       39.11%   \n",
       "366   嘉義市東區  19,300  23,106   42,406    311   42,717  100,157       42.65%   \n",
       "367   嘉義市西區  20,601  29,202   49,803    413   50,216  120,881       41.54%   \n",
       "\n",
       "    有效同意票數對投票權人數(%)  已完成投票所  \n",
       "0            26.13%     134  \n",
       "1            25.05%     166  \n",
       "2            26.61%     194  \n",
       "3            21.83%     144  \n",
       "4             25.5%     115  \n",
       "..              ...     ...  \n",
       "363          24.84%     160  \n",
       "364          21.62%     122  \n",
       "365          18.39%      64  \n",
       "366          19.27%      89  \n",
       "367          17.04%     100  \n",
       "\n",
       "[368 rows x 10 columns]"
      ]
     },
     "execution_count": 265,
     "metadata": {},
     "output_type": "execute_result"
    }
   ],
   "source": [
    "final_data"
   ]
  },
  {
   "cell_type": "code",
   "execution_count": 270,
   "metadata": {},
   "outputs": [],
   "source": [
    "final_data.to_csv(\"vote_data.csv\",encoding='utf-8-sig')"
   ]
  },
  {
   "cell_type": "code",
   "execution_count": null,
   "metadata": {},
   "outputs": [],
   "source": []
  }
 ],
 "metadata": {
  "interpreter": {
   "hash": "e880b6a5c7a5f4b142d9f445d0f040070dabb42b7abdaabc6906731dc44ddb78"
  },
  "kernelspec": {
   "display_name": "Python 3.8.10 64-bit ('tensorflow': conda)",
   "language": "python",
   "name": "python3"
  },
  "language_info": {
   "codemirror_mode": {
    "name": "ipython",
    "version": 3
   },
   "file_extension": ".py",
   "mimetype": "text/x-python",
   "name": "python",
   "nbconvert_exporter": "python",
   "pygments_lexer": "ipython3",
   "version": "3.8.10"
  },
  "orig_nbformat": 4
 },
 "nbformat": 4,
 "nbformat_minor": 2
}
